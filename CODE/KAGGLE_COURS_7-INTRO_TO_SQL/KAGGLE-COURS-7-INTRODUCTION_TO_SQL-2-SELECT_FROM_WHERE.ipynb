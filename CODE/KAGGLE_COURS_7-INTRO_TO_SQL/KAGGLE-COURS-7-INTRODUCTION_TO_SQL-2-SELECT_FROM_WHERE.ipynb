{
 "cells": [
  {
   "cell_type": "markdown",
   "metadata": {},
   "source": [
    "# 7. INTRODUCTION TO SQL"
   ]
  },
  {
   "cell_type": "markdown",
   "metadata": {},
   "source": [
    "# 7.2. SELECT, FROM & WHERE"
   ]
  },
  {
   "cell_type": "markdown",
   "metadata": {},
   "source": [
    "# 7.2.1. COURS"
   ]
  },
  {
   "cell_type": "markdown",
   "metadata": {},
   "source": [
    "## 7.2.1.1. SELECT ... FROM"
   ]
  },
  {
   "cell_type": "code",
   "execution_count": null,
   "metadata": {},
   "outputs": [],
   "source": [
    "# The most basic SQL query selects a single column from a single table. T\n",
    "# - specify the column you want after the word SELECT, and then\n",
    "# - specify the table after the word FROM."
   ]
  },
  {
   "cell_type": "code",
   "execution_count": null,
   "metadata": {},
   "outputs": [],
   "source": [
    "query = \"\"\"\n",
    "        SELECT Name\n",
    "        FROM 'biquery-public-ata.pet_records.pets'\n",
    "        ...\n",
    "        \"\"\""
   ]
  },
  {
   "cell_type": "markdown",
   "metadata": {},
   "source": [
    "## 7.2.1.2. WHERE ..."
   ]
  },
  {
   "cell_type": "code",
   "execution_count": null,
   "metadata": {},
   "outputs": [],
   "source": [
    "# BigQuery datasets are large, so you'll usually want to return only the \n",
    "# rows meeting specific conditions. You can do this using the WHERE clause."
   ]
  },
  {
   "cell_type": "code",
   "execution_count": null,
   "metadata": {},
   "outputs": [],
   "source": [
    "query = \"\"\"\n",
    "        SELECT Name\n",
    "        FROM 'biquery-public-ata.pet_records.pets'\n",
    "        WHERE Animal = 'Cat'\n",
    "        ...\n",
    "        \"\"\""
   ]
  },
  {
   "cell_type": "markdown",
   "metadata": {},
   "source": [
    "## 7.2.1.3. EXEMPLE"
   ]
  },
  {
   "cell_type": "code",
   "execution_count": null,
   "metadata": {},
   "outputs": [],
   "source": [
    "# Query to select all the items from the \"city\" column where the \"country\" \n",
    "# column is 'US'\n",
    "query = \"\"\"\n",
    "        SELECT city\n",
    "        FROM `bigquery-public-data.openaq.global_air_quality`\n",
    "        WHERE country = 'US'\n",
    "        \"\"\""
   ]
  },
  {
   "cell_type": "markdown",
   "metadata": {},
   "source": [
    "## 7.2.1.4. Submitting the query to the dataset"
   ]
  },
  {
   "cell_type": "code",
   "execution_count": null,
   "metadata": {},
   "outputs": [],
   "source": [
    "# Create a \"Client\" object\n",
    "client = bigquery.Client()"
   ]
  },
  {
   "cell_type": "code",
   "execution_count": null,
   "metadata": {},
   "outputs": [],
   "source": [
    "# Set up the query\n",
    "query_job = client.query(query)"
   ]
  },
  {
   "cell_type": "code",
   "execution_count": null,
   "metadata": {},
   "outputs": [],
   "source": [
    "# API request - run the query, and return a pandas DataFrame\n",
    "us_cities = query_job.to_dataframe()\n",
    "# Now we've got a pandas DataFrame called us_cities, which we can use like\n",
    "# any other DataFrame."
   ]
  },
  {
   "cell_type": "code",
   "execution_count": null,
   "metadata": {},
   "outputs": [],
   "source": [
    "# What five cities have the most measurements?\n",
    "us_cities.city.value_counts().head()\n",
    "\n",
    "# Phoenix-Mesa-Scottsdale                     88\n",
    "# Houston                                     82\n",
    "# Los Angeles-Long Beach-Santa Ana            68\n",
    "# Riverside-San Bernardino-Ontario            60\n",
    "# New York-Northern New Jersey-Long Island    60\n",
    "# Name: city, dtype: int64"
   ]
  },
  {
   "cell_type": "markdown",
   "metadata": {},
   "source": [
    "## 7.2.1.5. More queries"
   ]
  },
  {
   "cell_type": "code",
   "execution_count": null,
   "metadata": {},
   "outputs": [],
   "source": [
    "# if you want multiple columns, you can select them with a comma between \n",
    "# the names:\n",
    "query = \"\"\"\n",
    "        SELECT city, country\n",
    "        FROM `bigquery-public-data.openaq.global_air_quality`\n",
    "        WHERE country = 'US'\n",
    "        \"\"\""
   ]
  },
  {
   "cell_type": "code",
   "execution_count": null,
   "metadata": {},
   "outputs": [],
   "source": [
    "# You can select all columns with a * like this:\n",
    "query = \"\"\"\n",
    "        SELECT *\n",
    "        FROM `bigquery-public-data.openaq.global_air_quality`\n",
    "        WHERE country = 'US'\n",
    "        \"\"\""
   ]
  },
  {
   "cell_type": "markdown",
   "metadata": {},
   "source": [
    "## 7.2.1.6. Q&A: Notes on formatting"
   ]
  },
  {
   "cell_type": "code",
   "execution_count": 2,
   "metadata": {},
   "outputs": [],
   "source": [
    "# Question: What's up with the triple quotation marks (\"\"\")?\n",
    "# Answer: These tell Python that everything inside them is a single string,\n",
    "# even though we have line breaks in it. The line breaks aren't necessary, \n",
    "# but they make it easier to read your query."
   ]
  },
  {
   "cell_type": "code",
   "execution_count": 3,
   "metadata": {},
   "outputs": [],
   "source": [
    "# Question: Do you need to capitalize SELECT and FROM?\n",
    "# Answer: No, SQL doesn't care about capitalization. However, it's \n",
    "# customary to capitalize your SQL commands, and it makes your queries a \n",
    "# bit easier to read."
   ]
  },
  {
   "cell_type": "markdown",
   "metadata": {},
   "source": [
    "## 7.2.1.7. Working with big datasets"
   ]
  },
  {
   "cell_type": "code",
   "execution_count": 4,
   "metadata": {},
   "outputs": [],
   "source": [
    "# how to avoid scanning too much data at once, so that you don't run over \n",
    "# your limit.\n",
    "# To begin,you can estimate the size of any query before running it. \n",
    "# Here is an example using the (very large!) Hacker News dataset. \n",
    "# To see how much data a query will scan, we create a QueryJobConfig \n",
    "# object and set the dry_run parameter to True."
   ]
  },
  {
   "cell_type": "code",
   "execution_count": null,
   "metadata": {},
   "outputs": [],
   "source": [
    "# Query to get the score column from every row where the type column has value \"job\"\n",
    "query = \"\"\"\n",
    "        SELECT score, title\n",
    "        FROM `bigquery-public-data.hacker_news.full`\n",
    "        WHERE type = \"job\" \n",
    "        \"\"\"\n",
    "\n",
    "# Create a QueryJobConfig object to estimate size of query without running it\n",
    "dry_run_config = bigquery.QueryJobConfig(dry_run=True)\n",
    "\n",
    "# API request - dry run query to estimate costs\n",
    "dry_run_query_job = client.query(query, job_config=dry_run_config)\n",
    "\n",
    "print(\"This query will process {} bytes.\".format(dry_run_query_job.total_bytes_processed))\n",
    "\n",
    "This query will process 429036722 bytes."
   ]
  },
  {
   "cell_type": "code",
   "execution_count": null,
   "metadata": {},
   "outputs": [],
   "source": [
    "# You can also specify a parameter when running the query to limit how \n",
    "# much data you are willing to scan. Here's an example with a low limit.\n",
    "\n",
    "# Only run the query if it's less than 1 MB\n",
    "ONE_MB = 1000*1000\n",
    "safe_config = bigquery.QueryJobConfig(maximum_bytes_billed=ONE_MB)\n",
    "\n",
    "# Set up the query (will only run if it's less than 1 MB)\n",
    "safe_query_job = client.query(query, job_config=safe_config)\n",
    "\n",
    "# API request - try to run the query, and return a pandas DataFrame\n",
    "safe_query_job.to_dataframe()\n",
    "\n",
    "# InternalServerError: 500 Query exceeded limit for bytes billed: 1000000. \n",
    "# 429916160 or higher required."
   ]
  },
  {
   "cell_type": "code",
   "execution_count": null,
   "metadata": {},
   "outputs": [],
   "source": [
    "# In this case, the query was cancelled, because the limit of 1 MB was \n",
    "# exceeded. \n",
    "# However, we can increase the limit to run the query successfully!\n",
    "\n",
    "ONE_GB = 1000*1000*1000\n",
    "safe_config = bigquery.QueryJobConfig(maximum_bytes_billed=ONE_GB)\n",
    "\n",
    "# Set up the query (will only run if it's less than 1 GB)\n",
    "safe_query_job = client.query(query, job_config=safe_config)\n",
    "\n",
    "# API request - try to run the query, and return a pandas DataFrame\n",
    "job_post_scores = safe_query_job.to_dataframe()\n",
    "\n",
    "# Print average score for job posts\n",
    "job_post_scores.score.mean()\n",
    "\n",
    "# 1.874250078939059"
   ]
  },
  {
   "cell_type": "markdown",
   "metadata": {},
   "source": [
    "# 7.2.2. EXERCICES"
   ]
  },
  {
   "cell_type": "code",
   "execution_count": null,
   "metadata": {},
   "outputs": [],
   "source": [
    "# Try writing some SELECT statements of your own to explore a large \n",
    "# dataset of air pollution measurements."
   ]
  },
  {
   "cell_type": "code",
   "execution_count": null,
   "metadata": {},
   "outputs": [],
   "source": [
    "# Create a \"Client\" object\n",
    "client = bigquery.Client()\n",
    "\n",
    "# Construct a reference to the \"openaq\" dataset\n",
    "dataset_ref = client.dataset(\"openaq\", project=\"bigquery-public-data\")\n",
    "\n",
    "# API request - fetch the dataset\n",
    "dataset = client.get_dataset(dataset_ref)\n",
    "\n",
    "# Construct a reference to the \"global_air_quality\" table\n",
    "table_ref = dataset_ref.table(\"global_air_quality\")\n",
    "\n",
    "# API request - fetch the table\n",
    "table = client.get_table(table_ref)\n",
    "\n",
    "# Preview the first five lines of the \"global_air_quality\" table\n",
    "client.list_rows(table, max_results=5).to_dataframe()\n",
    "\n",
    "# \tlocation\tcity\tcountry\tpollutant\tvalue\ttimestamp\tunit\tsource_name\tlatitude\tlongitude\taveraged_over_in_hours\n",
    "# 0\tBTM Layout, Bengaluru - KSPCB\tBengaluru\tIN\tco\t910.00\t2018-02-22 03:00:00+00:00\tµg/m³\tCPCB\t12.912811\t77.60922\t0.25\n",
    "# 1\tBTM Layout, Bengaluru - KSPCB\tBengaluru\tIN\tno2\t131.87\t2018-02-22 03:00:00+00:00\tµg/m³\tCPCB\t12.912811\t77.60922\t0.25\n",
    "# 2\tBTM Layout, Bengaluru - KSPCB\tBengaluru\tIN\to3\t15.57\t2018-02-22 03:00:00+00:00\tµg/m³\tCPCB\t12.912811\t77.60922\t0.25\n",
    "# 3\tBTM Layout, Bengaluru - KSPCB\tBengaluru\tIN\tpm25\t45.62\t2018-02-22 03:00:00+00:00\tµg/m³\tCPCB\t12.912811\t77.60922\t0.25\n",
    "# 4\tBTM Layout, Bengaluru - KSPCB\tBengaluru\tIN\tso2\t4.49\t2018-02-22 03:00:00+00:00\tµg/m³\tCPCB\t12.912811\t77.60922\t0.25"
   ]
  },
  {
   "cell_type": "markdown",
   "metadata": {},
   "source": [
    "### 7.2.2.1. Units of measurement"
   ]
  },
  {
   "cell_type": "code",
   "execution_count": null,
   "metadata": {},
   "outputs": [],
   "source": [
    "# Which countries have reported pollution levels in units of \"ppm\"? \n",
    "# In the code cell below, set first_query to an SQL query that pulls the \n",
    "# appropriate entries from the country column.\n",
    "\n",
    "first_query = \"\"\"\n",
    "              SELECT country\n",
    "              FROM `bigquery-public-data.openaq.global_air_quality`\n",
    "              WHERE unit = \"ppm\"\n",
    "              \"\"\"\n",
    "\n",
    "# Set up the query (cancel the query if it would use too much of \n",
    "# your quota, with the limit set to 10 GB)\n",
    "safe_config = bigquery.QueryJobConfig(maximum_bytes_billed=10**10)\n",
    "first_query_job = client.query(first_query, job_config=safe_config)\n",
    "\n",
    "# API request - run the query, and return a pandas DataFrame\n",
    "first_results = first_query_job.to_dataframe()\n",
    "\n",
    "# View top few rows of results\n",
    "print(first_results.head())\n",
    "\n",
    "#   country\n",
    "# 0      US\n",
    "# 1      US\n",
    "# 2      US\n",
    "# 3      US\n",
    "# 4      US"
   ]
  },
  {
   "cell_type": "code",
   "execution_count": null,
   "metadata": {},
   "outputs": [],
   "source": [
    "# OU\n",
    "# Or to get each country just once, you could use\n",
    "first_query = \"\"\"\n",
    "              SELECT DISTINCT country\n",
    "              FROM `bigquery-public-data.openaq.global_air_quality`\n",
    "              WHERE unit = \"ppm\"\n",
    "              \"\"\"\n",
    "#   country\n",
    "# 0      US\n",
    "# 1      CL\n",
    "# 2      AU\n",
    "# 3      BM\n",
    "# 4      MX"
   ]
  },
  {
   "cell_type": "markdown",
   "metadata": {},
   "source": [
    "## 7.2.2.2. High air quality"
   ]
  },
  {
   "cell_type": "code",
   "execution_count": null,
   "metadata": {},
   "outputs": [],
   "source": [
    "# Which pollution levels were reported to be exactly 0?\n",
    "# - Set zero_pollution_query to select all columns of the rows where the \n",
    "#   value column is 0.\n",
    "# - Set zero_pollution_results to a pandas DataFrame containing the query \n",
    "#   results.\n",
    "\n",
    "# Query to select all columns where pollution levels are exactly 0\n",
    "zero_pollution_query = \"\"\"\n",
    "                       SELECT *\n",
    "                       FROM `bigquery-public-data.openaq.global_air_quality`\n",
    "                       WHERE value = 0\n",
    "                       \"\"\"\n",
    "# Set up the query\n",
    "safe_config = bigquery.QueryJobConfig(maximum_bytes_billed=10**10)\n",
    "query_job = client.query(zero_pollution_query, job_config=safe_config)\n",
    "\n",
    "# API request - run the query and return a pandas DataFrame\n",
    "zero_pollution_results = query_job.to_dataframe()\n",
    "\n",
    "print(zero_pollution_results.head())\n",
    "\n",
    "#                                         location     city country pollutant  \\\n",
    "# 0                     Victoria Memorial - WBSPCB  Kolkata      IN      pm25   \n",
    "# 1  Rabindra Bharati University, Kolkata - WBSPCB  Kolkata      IN       so2   \n",
    "# 2                   Zamość ul. Hrubieszowska 69A   Zamość      PL       no2   \n",
    "# 3                               Końskie, MOBILNA  Końskie      PL      pm10   \n",
    "# 4                               Końskie, MOBILNA  Końskie      PL      pm25   \n",
    "\n",
    "#    value                 timestamp   unit source_name   latitude  longitude  \\\n",
    "# 0    0.0 2017-10-16 20:45:00+00:00  µg/m³        CPCB  22.572645  88.363890   \n",
    "# 1    0.0 2017-10-28 14:30:00+00:00  µg/m³        CPCB  22.627874  88.380400   \n",
    "# 2    0.0 2020-05-19 05:00:00+00:00  µg/m³        GIOS  50.716630  23.290247   \n",
    "# 3    0.0 2018-12-21 13:00:00+00:00  µg/m³        GIOS  51.189526  20.408892   \n",
    "# 4    0.0 2018-12-21 13:00:00+00:00  µg/m³        GIOS  51.189526  20.408892   \n",
    "\n",
    "#    averaged_over_in_hours  \n",
    "# 0                    0.25  \n",
    "# 1                    0.25  \n",
    "# 2                     NaN  \n",
    "# 3                     NaN  \n",
    "# 4                     NaN  "
   ]
  },
  {
   "cell_type": "code",
   "execution_count": null,
   "metadata": {},
   "outputs": [],
   "source": []
  },
  {
   "cell_type": "code",
   "execution_count": null,
   "metadata": {},
   "outputs": [],
   "source": []
  },
  {
   "cell_type": "code",
   "execution_count": null,
   "metadata": {},
   "outputs": [],
   "source": []
  },
  {
   "cell_type": "code",
   "execution_count": null,
   "metadata": {},
   "outputs": [],
   "source": []
  }
 ],
 "metadata": {
  "kernelspec": {
   "display_name": "Python 3",
   "language": "python",
   "name": "python3"
  },
  "language_info": {
   "codemirror_mode": {
    "name": "ipython",
    "version": 3
   },
   "file_extension": ".py",
   "mimetype": "text/x-python",
   "name": "python",
   "nbconvert_exporter": "python",
   "pygments_lexer": "ipython3",
   "version": "3.8.5"
  }
 },
 "nbformat": 4,
 "nbformat_minor": 4
}
