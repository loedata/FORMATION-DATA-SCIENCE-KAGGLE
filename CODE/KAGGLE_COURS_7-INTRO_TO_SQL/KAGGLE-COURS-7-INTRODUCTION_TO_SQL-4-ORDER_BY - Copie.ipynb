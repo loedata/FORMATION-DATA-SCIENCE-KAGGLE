{
 "cells": [
  {
   "cell_type": "markdown",
   "metadata": {},
   "source": [
    "# 7. INTRODUCTION TO SQL"
   ]
  },
  {
   "cell_type": "markdown",
   "metadata": {},
   "source": [
    "# 7.4. ORDER BY"
   ]
  },
  {
   "cell_type": "markdown",
   "metadata": {},
   "source": [
    "# 7.4.1. COURS"
   ]
  },
  {
   "cell_type": "code",
   "execution_count": 1,
   "metadata": {},
   "outputs": [],
   "source": [
    "#  how to change the order of your results using the ORDER BY clause, and \n",
    "# you'll explore a popular use case by applying ordering to dates."
   ]
  },
  {
   "cell_type": "markdown",
   "metadata": {},
   "source": [
    "# 7.4.1.1. ORDER BY"
   ]
  },
  {
   "cell_type": "markdown",
   "metadata": {},
   "source": [
    "## 7.4.1.1.1. Identifiant de la table"
   ]
  },
  {
   "cell_type": "code",
   "execution_count": null,
   "metadata": {},
   "outputs": [],
   "source": [
    "query = \"\"\"\n",
    "        SELECT ID, Animal\n",
    "        FROM 'bigquery-publicdata.pet_records.pets'\n",
    "        ORDER BY ID\n",
    "        \"\"\""
   ]
  },
  {
   "cell_type": "markdown",
   "metadata": {},
   "source": [
    "## 7.4.1.1.2. Colonne contenant du texte"
   ]
  },
  {
   "cell_type": "code",
   "execution_count": null,
   "metadata": {},
   "outputs": [],
   "source": [
    "query = \"\"\"\n",
    "        SELECT ID, Animal\n",
    "        FROM 'bigquery-publicdata.pet_records.pets'\n",
    "        ORDER BY Animal\n",
    "        \"\"\""
   ]
  },
  {
   "cell_type": "markdown",
   "metadata": {},
   "source": [
    "## 7.4.1.1.3. ASCENDANT, DESCENDANT"
   ]
  },
  {
   "cell_type": "code",
   "execution_count": null,
   "metadata": {},
   "outputs": [],
   "source": [
    "query = \"\"\"\n",
    "        SELECT ID, Animal\n",
    "        FROM 'bigquery-publicdata.pet_records.pets'\n",
    "        ORDER BY Animal DESC\n",
    "        \"\"\""
   ]
  },
  {
   "cell_type": "markdown",
   "metadata": {},
   "source": [
    "## 7.4.1.2. DATES"
   ]
  },
  {
   "cell_type": "code",
   "execution_count": null,
   "metadata": {},
   "outputs": [],
   "source": [
    "# We'll talk about dates, because they come up very frequently in \n",
    "# real-world databases. \n",
    "# There are two ways that dates can be stored in BigQuery: as a DATE or \n",
    "# as a DATETIME.\n",
    "\n",
    "# The DATE format has the year first, then the month, and then the day. \n",
    "\n",
    "# It looks like this:\n",
    "#  YYYY-[M]M-[D]D\n",
    "#  YYYY: Four-digit year\n",
    "#  [M]M: One or two digit month\n",
    "#  [D]D: One or two digit day\n",
    "\n",
    "# So 2019-01-10 is interpreted as January 10, 2019.\n",
    "\n",
    "# The DATETIME format is like the date format ... but with time added at \n",
    "# the end."
   ]
  },
  {
   "cell_type": "markdown",
   "metadata": {},
   "source": [
    "## 7.4.1.3. EXTRACT"
   ]
  },
  {
   "cell_type": "code",
   "execution_count": null,
   "metadata": {},
   "outputs": [],
   "source": [
    "query = \"\"\"\n",
    "        SELECT Name, EXTRACT(DAY from Date) AS Day\n",
    "        FROM 'bigquery-publicdata.pet_records.pets_with_date'\n",
    "        \"\"\"\n",
    "# si Date contient une ligne '2019-04-18' le nouveau champ Day \n",
    "# contiendra 18"
   ]
  },
  {
   "cell_type": "code",
   "execution_count": null,
   "metadata": {},
   "outputs": [],
   "source": [
    "query = \"\"\"\n",
    "        SELECT Name, EXTRACT(WEEK from Date) AS Day\n",
    "        FROM 'bigquery-publicdata.pet_records.pets_with_date'\n",
    "        \"\"\""
   ]
  },
  {
   "cell_type": "markdown",
   "metadata": {},
   "source": [
    "## 7.4.1.4. EXEMPLES"
   ]
  },
  {
   "cell_type": "code",
   "execution_count": null,
   "metadata": {},
   "outputs": [],
   "source": [
    "# Query to find out the number of accidents for each day of the week\n",
    "query = \"\"\"\n",
    "        SELECT COUNT(consecutive_number) AS num_accidents, \n",
    "               EXTRACT(DAYOFWEEK FROM timestamp_of_crash) AS day_of_week\n",
    "        FROM `bigquery-public-data.nhtsa_traffic_fatalities.accident_2015`\n",
    "        GROUP BY day_of_week\n",
    "        ORDER BY num_accidents DESC\n",
    "        \"\"\"\n",
    "\n",
    "# \tstate_number\tstate_name\tconsecutive_number\tnumber_of_vehicle_forms_submitted_all\tnumber_of_motor_vehicles_in_transport_mvit\tnumber_of_parked_working_vehicles\tnumber_of_forms_submitted_for_persons_not_in_motor_vehicles\tnumber_of_persons_not_in_motor_vehicles_in_transport_mvit\tnumber_of_persons_in_motor_vehicles_in_transport_mvit\tnumber_of_forms_submitted_for_persons_in_motor_vehicles\t...\tminute_of_ems_arrival_at_hospital\trelated_factors_crash_level_1\trelated_factors_crash_level_1_name\trelated_factors_crash_level_2\trelated_factors_crash_level_2_name\trelated_factors_crash_level_3\trelated_factors_crash_level_3_name\tnumber_of_fatalities\tnumber_of_drunk_drivers\ttimestamp_of_crash\n",
    "# 0\t19\tIowa\t190204\t1\t1\t0\t0\t0\t1\t1\t...\t2\t0\tNone\t0\tNone\t0\tNone\t1\t1\t2015-09-11 20:20:00+00:00\n",
    "# 1\t19\tIowa\t190233\t1\t1\t0\t0\t0\t1\t1\t...\t88\t0\tNone\t0\tNone\t0\tNone\t1\t1\t2015-11-01 00:30:00+00:00\n",
    "# 2\t19\tIowa\t190179\t1\t1\t0\t0\t0\t2\t2\t...\t1\t0\tNone\t0\tNone\t0\tNone\t1\t0\t2015-05-04 16:18:00+00:00\n",
    "# 3\t19\tIowa\t190248\t1\t1\t0\t0\t0\t4\t4\t...\t99\t0\tNone\t0\tNone\t0\tNone\t2\t0\t2015-11-17 12:26:00+00:00\n",
    "# 4\t19\tIowa\t190231\t1\t1\t0\t0\t0\t1\t1\t...\t88\t0\tNone\t0\tNone\t0\tNone\t1\t0\t2015-10-31 "
   ]
  },
  {
   "cell_type": "code",
   "execution_count": null,
   "metadata": {},
   "outputs": [],
   "source": [
    "# Set up the query (cancel the query if it would use too much of \n",
    "# your quota, with the limit set to 1 GB)\n",
    "safe_config = bigquery.QueryJobConfig(maximum_bytes_billed=10**9)\n",
    "query_job = client.query(query, job_config=safe_config)\n",
    "\n",
    "# API request - run the query, and convert the results to a pandas DataFrame\n",
    "accidents_by_day = query_job.to_dataframe()\n",
    "\n",
    "# Print the DataFrame\n",
    "accidents_by_day\n",
    "\n",
    "# \tnum_accidents\tday_of_week\n",
    "# 0\t5659\t7\n",
    "# 1\t5298\t1\n",
    "# 2\t4916\t6\n",
    "# 3\t4460\t5\n",
    "# 4\t4182\t4\n",
    "# 5\t4038\t2\n",
    "# 6\t3985\t3"
   ]
  },
  {
   "cell_type": "markdown",
   "metadata": {},
   "source": [
    "# 7.4.2. EXERCICES"
   ]
  },
  {
   "cell_type": "code",
   "execution_count": null,
   "metadata": {},
   "outputs": [],
   "source": [
    "# Create a \"Client\" object\n",
    "client = bigquery.Client()\n",
    "\n",
    "# Construct a reference to the \"world_bank_intl_education\" dataset\n",
    "dataset_ref = client.dataset(\"world_bank_intl_education\", project=\"bigquery-public-data\")\n",
    "\n",
    "# API request - fetch the dataset\n",
    "dataset = client.get_dataset(dataset_ref)\n",
    "\n",
    "# Construct a reference to the \"international_education\" table\n",
    "table_ref = dataset_ref.table(\"international_education\")\n",
    "\n",
    "# API request - fetch the table\n",
    "table = client.get_table(table_ref)\n",
    "\n",
    "# Preview the first five lines of the \"international_education\" table\n",
    "client.list_rows(table, max_results=5).to_dataframe()"
   ]
  },
  {
   "cell_type": "code",
   "execution_count": null,
   "metadata": {},
   "outputs": [],
   "source": [
    "# \tcountry_name\tcountry_code\tindicator_name\tindicator_code\tvalue\tyear\n",
    "# 0\tSt. Kitts and Nevis\tKNA\tPopulation of the official age for upper secon...\tSP.SEC.UTOT.FE.IN\t949.0\t2016\n",
    "# 1\tSt. Lucia\tLCA\tUnemployment, female (% of female labor force)\tSL.UEM.TOTL.FE.ZS\t28.5\t2016\n",
    "# 2\tSuriname\tSUR\tPopulation of the official age for pre-primary...\tSP.PRE.TOTL.FE.IN\t9249.0\t2016\n",
    "# 3\tTajikistan\tTJK\tOfficial entrance age to upper secondary educa...\tUIS.THAGE.3.A.GPV\t16.0\t2016\n",
    "# 4\tTurkmenistan\tTKM\tPopulation of the official age for primary edu...\tSP.PRM.TOTL.MA.IN\t201184.0\t2016"
   ]
  },
  {
   "cell_type": "markdown",
   "metadata": {},
   "source": [
    "## 7.4.2.1. Government expenditure on education"
   ]
  },
  {
   "cell_type": "code",
   "execution_count": null,
   "metadata": {},
   "outputs": [],
   "source": [
    "# Which countries spend the largest fraction of GDP on education?\n",
    "\n",
    "# Your code goes here\n",
    "country_spend_pct_query = \"\"\"\n",
    "                          SELECT country_name, AVG(value) AS avg_ed_spending_pct\n",
    "                          FROM `bigquery-public-data.world_bank_intl_education.international_education`\n",
    "                          WHERE indicator_code = 'SE.XPD.TOTL.GD.ZS' and year >= 2010 and year <= 2017\n",
    "                          GROUP BY country_name\n",
    "                          ORDER BY avg_ed_spending_pct DESC\n",
    "                          \"\"\"\n",
    "\n",
    "# Set up the query (cancel the query if it would use too much of \n",
    "# your quota, with the limit set to 1 GB)\n",
    "safe_config = bigquery.QueryJobConfig(maximum_bytes_billed=10**10)\n",
    "country_spend_pct_query_job = client.query(country_spend_pct_query, job_config=safe_config)\n",
    "\n",
    "# API request - run the query, and return a pandas DataFrame\n",
    "country_spending_results = country_spend_pct_query_job.to_dataframe()\n",
    "\n",
    "# View top few rows of results\n",
    "print(country_spending_results.head())\n",
    "\n",
    "#             country_name  avg_ed_spending_pct\n",
    "# 0                   Cuba            12.837270\n",
    "# 1  Micronesia, Fed. Sts.            12.467750\n",
    "# 2        Solomon Islands            10.001080\n",
    "# 3                Moldova             8.372153\n",
    "# 4                Namibia             8.349610"
   ]
  },
  {
   "cell_type": "markdown",
   "metadata": {},
   "source": [
    "## 7.4.2.2. Identify interesting codes to explore"
   ]
  },
  {
   "cell_type": "code",
   "execution_count": null,
   "metadata": {},
   "outputs": [],
   "source": [
    "# The last question started by telling you to focus on rows with the code \n",
    "# SE.XPD.TOTL.GD.ZS. But how would you find more interesting indicator \n",
    "# codes to explore?\n",
    "# There are 1000s of codes in the dataset, so it would be time consuming to\n",
    "# review them all. But many codes are available for only a few countries. \n",
    "# When browsing the options for different codes, you might restrict \n",
    "# yourself to codes that are reported by many countries.\n",
    "# Write a query below that selects the indicator code and indicator name \n",
    "# for all codes with at least 175 rows in the year 2016.\n",
    "\n",
    "# Your code goes here\n",
    "code_count_query = \"\"\"\n",
    "                   SELECT indicator_code, indicator_name, COUNT(1) AS num_rows\n",
    "                   FROM `bigquery-public-data.world_bank_intl_education.international_education`\n",
    "                   WHERE year = 2016\n",
    "                   GROUP BY indicator_name, indicator_code\n",
    "                   HAVING COUNT(1) >= 175\n",
    "                   ORDER BY COUNT(1) DESC\n",
    "                   \"\"\"\n",
    "\n",
    "# Set up the query\n",
    "safe_config = bigquery.QueryJobConfig(maximum_bytes_billed=10**10)\n",
    "code_count_query_job = client.query(code_count_query, job_config=safe_config)\n",
    "\n",
    "# API request - run the query, and return a pandas DataFrame\n",
    "code_count_results = code_count_query_job.to_dataframe()\n",
    "\n",
    "# View top few rows of results\n",
    "print(code_count_results.head())\n",
    "\n",
    "#       indicator_code                      indicator_name  num_rows\n",
    "# 0        SP.POP.TOTL                   Population, total       232\n",
    "# 1        SP.POP.GROW        Population growth (annual %)       232\n",
    "# 2     IT.NET.USER.P2     Internet users (per 100 people)       223\n",
    "# 3  SP.POP.TOTL.FE.ZS     Population, female (% of total)       213\n",
    "# 4  SP.POP.0014.TO.ZS  Population, ages 0-14 (% of total)       213\n"
   ]
  },
  {
   "cell_type": "code",
   "execution_count": null,
   "metadata": {},
   "outputs": [],
   "source": []
  }
 ],
 "metadata": {
  "kernelspec": {
   "display_name": "Python 3",
   "language": "python",
   "name": "python3"
  },
  "language_info": {
   "codemirror_mode": {
    "name": "ipython",
    "version": 3
   },
   "file_extension": ".py",
   "mimetype": "text/x-python",
   "name": "python",
   "nbconvert_exporter": "python",
   "pygments_lexer": "ipython3",
   "version": "3.8.5"
  }
 },
 "nbformat": 4,
 "nbformat_minor": 4
}
