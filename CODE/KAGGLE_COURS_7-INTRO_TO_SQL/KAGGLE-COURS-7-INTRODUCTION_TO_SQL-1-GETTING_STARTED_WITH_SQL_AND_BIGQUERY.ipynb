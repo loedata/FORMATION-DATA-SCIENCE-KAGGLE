{
 "cells": [
  {
   "cell_type": "markdown",
   "metadata": {},
   "source": [
    "# 7. INTRODUCTION TO SQL"
   ]
  },
  {
   "cell_type": "markdown",
   "metadata": {},
   "source": [
    "# 7.1. GETTING STARTED WHITH SQL AND BIGQUERY"
   ]
  },
  {
   "cell_type": "markdown",
   "metadata": {},
   "source": [
    "# 7.1.1. COURS"
   ]
  },
  {
   "cell_type": "code",
   "execution_count": 1,
   "metadata": {},
   "outputs": [],
   "source": [
    "# SQL : Structured Query Language \n",
    "#     = a programming language used with databases   "
   ]
  },
  {
   "cell_type": "code",
   "execution_count": 2,
   "metadata": {},
   "outputs": [],
   "source": [
    "# BigQuery : a web service that lets you apply SQL to huge datasets."
   ]
  },
  {
   "cell_type": "markdown",
   "metadata": {},
   "source": [
    "## 7.1.1.1. BigQuery COMMANDS"
   ]
  },
  {
   "cell_type": "code",
   "execution_count": 6,
   "metadata": {},
   "outputs": [],
   "source": [
    "from google.cloud import bigquery"
   ]
  },
  {
   "cell_type": "code",
   "execution_count": 5,
   "metadata": {},
   "outputs": [],
   "source": [
    "# The first step in the workflow is to create a Client object. \n",
    "# As you'll soon see, this Client object will play a central role in \n",
    "# retrieving information from BigQuery datasets."
   ]
  },
  {
   "cell_type": "code",
   "execution_count": null,
   "metadata": {},
   "outputs": [],
   "source": [
    "# CLIENT = object contenant les projets et 1e connection à BigQuery service\n",
    "# bigquery-public-data = un project = une liste de dataset\n",
    "# hacker_news = un dataset = une liste de tables"
   ]
  },
  {
   "cell_type": "code",
   "execution_count": null,
   "metadata": {},
   "outputs": [],
   "source": [
    "# Create a \"Client\" object\n",
    "client = bigquery.Client()\n",
    "# attention - service payant"
   ]
  },
  {
   "cell_type": "code",
   "execution_count": null,
   "metadata": {},
   "outputs": [],
   "source": [
    "# Construct a reference to the \"hacker_news\" dataset\n",
    "dataset_ref = client.dataset(\"hacker_news\", project=\"bigquery-public-data\")\n",
    "\n",
    "# API request - fetch the dataset\n",
    "dataset = client.get_dataset(dataset_ref)"
   ]
  },
  {
   "cell_type": "code",
   "execution_count": null,
   "metadata": {},
   "outputs": [],
   "source": [
    "# List all the tables in the \"hacker_news\" dataset\n",
    "tables = list(client.list_tables(dataset))\n",
    "\n",
    "# Print names of all tables in the dataset (there are four!)\n",
    "for table in tables:  \n",
    "    print(table.table_id)\n",
    "# comments\n",
    "# full\n",
    "# full_201510\n",
    "# stories"
   ]
  },
  {
   "cell_type": "code",
   "execution_count": null,
   "metadata": {},
   "outputs": [],
   "source": [
    "# Construct a reference to the \"full\" table\n",
    "table_ref = dataset_ref.table(\"full\")\n",
    "\n",
    "# API request - fetch the table\n",
    "table = client.get_table(table_ref)"
   ]
  },
  {
   "cell_type": "markdown",
   "metadata": {},
   "source": [
    "#  7.1.1.2. TABLE SCHEMA"
   ]
  },
  {
   "cell_type": "code",
   "execution_count": null,
   "metadata": {},
   "outputs": [],
   "source": [
    "# Print information on all the columns in the \"full\" table in the \n",
    "# \"hacker_news\" dataset\n",
    "table.schema\n",
    "\n",
    "# [SchemaField('title', 'STRING', 'NULLABLE', 'Story title', ()),\n",
    "#  SchemaField('url', 'STRING', 'NULLABLE', 'Story url', ()),\n",
    "#  SchemaField('text', 'STRING', 'NULLABLE', 'Story or comment text', ()),\n",
    "#  SchemaField('dead', 'BOOLEAN', 'NULLABLE', 'Is dead?', ()),\n",
    "#  SchemaField('by', 'STRING', 'NULLABLE', \"The username of the item's author.\", ()),\n",
    "#  SchemaField('score', 'INTEGER', 'NULLABLE', 'Story score', ()),\n",
    "#  SchemaField('time', 'INTEGER', 'NULLABLE', 'Unix time', ()),\n",
    "#  SchemaField('timestamp', 'TIMESTAMP', 'NULLABLE', 'Timestamp for the unix time', ()),\n",
    "#  SchemaField('type', 'STRING', 'NULLABLE', 'Type of details (comment, comment_ranking, poll, story, job, pollopt)', ()),\n",
    "#  SchemaField('id', 'INTEGER', 'NULLABLE', \"The item's unique id.\", ()),\n",
    "#  SchemaField('parent', 'INTEGER', 'NULLABLE', 'Parent comment ID', ()),\n",
    "#  SchemaField('descendants', 'INTEGER', 'NULLABLE', 'Number of story or poll descendants', ()),\n",
    "#  SchemaField('ranking', 'INTEGER', 'NULLABLE', 'Comment ranking', ()),\n",
    "#  SchemaField('deleted', 'BOOLEAN', 'NULLABLE', 'Is deleted?', ())]"
   ]
  },
  {
   "cell_type": "code",
   "execution_count": null,
   "metadata": {},
   "outputs": [],
   "source": [
    "# SchemaField = un champ = référence à une colonne\n",
    "# SchemaField(nom_colonne, field_type, mode_nullable, description)"
   ]
  },
  {
   "cell_type": "code",
   "execution_count": null,
   "metadata": {},
   "outputs": [],
   "source": [
    "# récupérer les 5 premières lignes de toute la table\n",
    "client.list_rows(table, max_results=5).to_dataframe()\n",
    "\n",
    "# \ttitle\turl\ttext\tdead\tby\tscore\ttime\ttimestamp\ttype\tid\tparent\tdescendants\tranking\tdeleted\n",
    "# 0\tNone\tNone\tNone\tNone\tNone\tNone\t1391699272\t2014-02-06 15:07:52+00:00\tstory\t7190711\tNaN\tNone\tNone\tTrue\n",
    "# 1\tNone\tNone\tPlease elaborate how his divorce is either ill...\tNone\tbauerd\tNone\t1527013360\t2018-05-22 18:22:40+00:00\tcomment\t17128187\t17128167.0\tNone\tNone\tNone\n",
    "# 2\tNone\tNone\tIf it's the difference between shipping and no...\tNone\tcheald\tNone\t1326079846\t2012-01-09 03:30:46+00:00\tcomment\t3441358\t3441154.0\tNone\tNone\tNone\n",
    "# 3\tNone\tNone\tI believe that political biases are blinding y...\tNone\tlearc83\tNone\t1314393283\t2011-08-26 21:14:43+00:00\tcomment\t2929994\t2929910.0\tNone\tNone\tNone\n",
    "# 4\tNone\tNone\tRelevant The Onion: <a href=\"https:&#x2F;&#x2F...\tNone\tTaylor_OD\tNone\t1551482279\t2019-03-01 23:17:59+00:00\tcomment\t19286260\t19285865.0\tNone\tNone\tNone"
   ]
  },
  {
   "cell_type": "code",
   "execution_count": null,
   "metadata": {},
   "outputs": [],
   "source": [
    "# Preview the first five entries in the \"by\" column of the \"full\" table\n",
    "client.list_rows(table, selected_fields=table.schema[:1], max_results=5).to_dataframe()\n",
    "\n",
    "# \ttitle\n",
    "# 0\tNone\n",
    "# 1\tNone\n",
    "# 2\tNone\n",
    "# 3\tNone\n",
    "# 4\tNone"
   ]
  },
  {
   "cell_type": "markdown",
   "metadata": {},
   "source": [
    "# 7.1.2. EXERCICES"
   ]
  },
  {
   "cell_type": "code",
   "execution_count": null,
   "metadata": {},
   "outputs": [],
   "source": [
    "from google.cloud import bigquery\n",
    "\n",
    "# Create a \"Client\" object\n",
    "client = bigquery.Client()\n",
    "\n",
    "# Construct a reference to the \"chicago_crime\" dataset\n",
    "dataset_ref = client.dataset(\"chicago_crime\", project=\"bigquery-public-data\")\n",
    "\n",
    "# API request - fetch the dataset\n",
    "dataset = client.get_dataset(dataset_ref)"
   ]
  },
  {
   "cell_type": "markdown",
   "metadata": {},
   "source": [
    "## 7.1.2.1. Count tables in the dataset"
   ]
  },
  {
   "cell_type": "code",
   "execution_count": null,
   "metadata": {},
   "outputs": [],
   "source": [
    "# How many tables are in the Chicago Crime dataset?\n",
    "# List all the tables in the \"chicago_crime\" dataset\n",
    "tables = list(client.list_tables(dataset))\n",
    "\n",
    "# Print number of tables in the dataset\n",
    "print(len(tables))\n",
    "\n",
    "# 1"
   ]
  },
  {
   "cell_type": "markdown",
   "metadata": {},
   "source": [
    "## 7.2.1.2. Explore the table schema"
   ]
  },
  {
   "cell_type": "code",
   "execution_count": null,
   "metadata": {},
   "outputs": [],
   "source": [
    "# How many columns in the crime table have TIMESTAMP data?\n",
    "# Construct a reference to the \"full\" table\n",
    "table_ref_crime = dataset_ref.table(\"crime\")\n",
    "\n",
    "# API request - fetch the table\n",
    "table_crime = client.get_table(table_ref_crime)\n",
    "\n",
    "# info de la table\n",
    "print(table_crime.schema)\n",
    "\n",
    "# [SchemaField('unique_key', 'INTEGER', 'REQUIRED', 'Unique identifier for the record.', ()), SchemaField('case_number', 'STRING', 'NULLABLE', 'The Chicago Police Department RD Number (Records Division Number), which is unique to the incident.', ()), SchemaField('date', 'TIMESTAMP', 'NULLABLE', 'Date when the incident occurred. this is sometimes a best estimate.', ()), SchemaField('block', 'STRING', 'NULLABLE', 'The partially redacted address where the incident occurred, placing it on the same block as the actual address.', ()), SchemaField('iucr', 'STRING', 'NULLABLE', 'The Illinois Unifrom Crime Reporting code. This is directly linked to the Primary Type and Description. See the list of IUCR codes at https://data.cityofchicago.org/d/c7ck-438e.', ()), SchemaField('primary_type', 'STRING', 'NULLABLE', 'The primary description of the IUCR code.', ()), SchemaField('description', 'STRING', 'NULLABLE', 'The secondary description of the IUCR code, a subcategory of the primary description.', ()), SchemaField('location_description', 'STRING', 'NULLABLE', 'Description of the location where the incident occurred.', ()), SchemaField('arrest', 'BOOLEAN', 'NULLABLE', 'Indicates whether an arrest was made.', ()), SchemaField('domestic', 'BOOLEAN', 'NULLABLE', 'Indicates whether the incident was domestic-related as defined by the Illinois Domestic Violence Act.', ()), SchemaField('beat', 'INTEGER', 'NULLABLE', 'Indicates the beat where the incident occurred. A beat is the smallest police geographic area – each beat has a dedicated police beat car. Three to five beats make up a police sector, and three sectors make up a police district. The Chicago Police Department has 22 police districts. See the beats at https://data.cityofchicago.org/d/aerh-rz74.', ()), SchemaField('district', 'INTEGER', 'NULLABLE', 'Indicates the police district where the incident occurred. See the districts at https://data.cityofchicago.org/d/fthy-xz3r.', ()), SchemaField('ward', 'INTEGER', 'NULLABLE', 'The ward (City Council district) where the incident occurred. See the wards at https://data.cityofchicago.org/d/sp34-6z76.', ()), SchemaField('community_area', 'INTEGER', 'NULLABLE', 'Indicates the community area where the incident occurred. Chicago has 77 community areas. See the community areas at https://data.cityofchicago.org/d/cauq-8yn6.', ()), SchemaField('fbi_code', 'STRING', 'NULLABLE', \"Indicates the crime classification as outlined in the FBI's National Incident-Based Reporting System (NIBRS). See the Chicago Police Department listing of these classifications at http://gis.chicagopolice.org/clearmap_crime_sums/crime_types.html.\", ()), SchemaField('x_coordinate', 'FLOAT', 'NULLABLE', 'The x coordinate of the location where the incident occurred in State Plane Illinois East NAD 1983 projection. This location is shifted from the actual location for partial redaction but falls on the same block.', ()), SchemaField('y_coordinate', 'FLOAT', 'NULLABLE', 'The y coordinate of the location where the incident occurred in State Plane Illinois East NAD 1983 projection. This location is shifted from the actual location for partial redaction but falls on the same block.', ()), SchemaField('year', 'INTEGER', 'NULLABLE', 'Year the incident occurred.', ()), SchemaField('updated_on', 'TIMESTAMP', 'NULLABLE', 'Date and time the record was last updated.', ()), SchemaField('latitude', 'FLOAT', 'NULLABLE', 'The latitude of the location where the incident occurred. This location is shifted from the actual location for partial redaction but falls on the same block.', ()), SchemaField('longitude', 'FLOAT', 'NULLABLE', 'The longitude of the location where the incident occurred. This location is shifted from the actual location for partial redaction but falls on the same block.', ()), SchemaField('location', 'STRING', 'NULLABLE', 'The location where the incident occurred in a format that allows for creation of maps and other geographic operations on this data portal. This location is shifted from the actual location for partial redaction but falls on the same block.', ())]"
   ]
  },
  {
   "cell_type": "code",
   "execution_count": null,
   "metadata": {},
   "outputs": [],
   "source": [
    "num_timestamp_fields = 2"
   ]
  },
  {
   "cell_type": "markdown",
   "metadata": {},
   "source": [
    "## 7.2.1.3. Create a crime map"
   ]
  },
  {
   "cell_type": "code",
   "execution_count": null,
   "metadata": {},
   "outputs": [],
   "source": [
    "# If you wanted to create a map with a dot at the location of each crime, \n",
    "# what are the names of the two fields you likely need to pull out of the\n",
    "# crime table to plot the crimes on a map?\n",
    "fields_for_plotting = ['latitude', 'longitude']"
   ]
  },
  {
   "cell_type": "code",
   "execution_count": null,
   "metadata": {},
   "outputs": [],
   "source": [
    "client.list_rows(table_crime, max_results=5).to_dataframe()\n",
    "# champ 'block' contient le nom de la rue\n",
    "\n",
    "# \tunique_key\tcase_number\tdate\tblock\tiucr\tprimary_type\tdescription\tlocation_description\tarrest\tdomestic\t...\tward\tcommunity_area\tfbi_code\tx_coordinate\ty_coordinate\tyear\tupdated_on\tlatitude\tlongitude\tlocation\n",
    "# 0\t11644437\tJC211452\t2018-12-28 18:55:00+00:00\t055XX S PULASKI RD\t1122\tDECEPTIVE PRACTICE\tCOUNTERFEIT CHECK\tCURRENCY EXCHANGE\tTrue\tFalse\t...\t13\t62\t10\tNone\tNone\t2018\t2019-07-18 16:10:15+00:00\tNone\tNone\tNone\n",
    "# 1\t6014311\tHP119430\t2006-06-01 03:00:00+00:00\t041XX W 57TH ST\t0281\tCRIM SEXUAL ASSAULT\tNON-AGGRAVATED\tRESIDENCE\tTrue\tFalse\t...\t13\t62\t02\tNone\tNone\t2006\t2015-08-17 15:03:40+00:00\tNone\tNone\tNone\n",
    "# 2\t7410194\tHS212618\t2003-12-01 13:00:00+00:00\t106XX S AVENUE O\t0842\tTHEFT\tAGG: FINANCIAL ID THEFT\tRESIDENCE\tFalse\tFalse\t...\t10\t52\t06\tNone\tNone\t2003\t2015-08-17 15:03:40+00:00\tNone\tNone\tNone\n",
    "# 3\t10481874\tHZ221648\t2010-03-25 12:00:00+00:00\t100XX S AVENUE L\t1154\tDECEPTIVE PRACTICE\tFINANCIAL IDENTITY THEFT $300 AND UNDER\tRESIDENCE\tFalse\tFalse\t...\t10\t52\t11\tNone\tNone\t2010\t2016-04-12 15:48:52+00:00\tNone\tNone\tNone\n",
    "# 4\t2297390\tHH569779\t2002-08-09 22:15:00+00:00\t032XX E 134TH ST\t2022\tNARCOTICS\tPOSS: COCAINE\tSTREET\tTrue\tFalse\t...\t10\t55\t18\tNone\tNone\t2002\t2015-08-17 15:03:40+00:00\tNone\tNone\tNone\n",
    "# 5 rows × 22 columns"
   ]
  },
  {
   "cell_type": "code",
   "execution_count": null,
   "metadata": {},
   "outputs": [],
   "source": []
  },
  {
   "cell_type": "code",
   "execution_count": null,
   "metadata": {},
   "outputs": [],
   "source": []
  },
  {
   "cell_type": "code",
   "execution_count": null,
   "metadata": {},
   "outputs": [],
   "source": []
  },
  {
   "cell_type": "code",
   "execution_count": null,
   "metadata": {},
   "outputs": [],
   "source": []
  },
  {
   "cell_type": "code",
   "execution_count": null,
   "metadata": {},
   "outputs": [],
   "source": []
  },
  {
   "cell_type": "code",
   "execution_count": null,
   "metadata": {},
   "outputs": [],
   "source": []
  },
  {
   "cell_type": "code",
   "execution_count": null,
   "metadata": {},
   "outputs": [],
   "source": []
  }
 ],
 "metadata": {
  "kernelspec": {
   "display_name": "Python 3",
   "language": "python",
   "name": "python3"
  },
  "language_info": {
   "codemirror_mode": {
    "name": "ipython",
    "version": 3
   },
   "file_extension": ".py",
   "mimetype": "text/x-python",
   "name": "python",
   "nbconvert_exporter": "python",
   "pygments_lexer": "ipython3",
   "version": "3.8.5"
  }
 },
 "nbformat": 4,
 "nbformat_minor": 4
}
