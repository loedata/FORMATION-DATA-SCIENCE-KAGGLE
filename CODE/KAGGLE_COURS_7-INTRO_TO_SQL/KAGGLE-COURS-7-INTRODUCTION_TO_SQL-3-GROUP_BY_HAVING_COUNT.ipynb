{
 "cells": [
  {
   "cell_type": "markdown",
   "metadata": {},
   "source": [
    "# 7. INTRODUCTION TO SQL"
   ]
  },
  {
   "cell_type": "markdown",
   "metadata": {},
   "source": [
    "# 7.3. GROUP BY, HAVING & COUNT"
   ]
  },
  {
   "cell_type": "markdown",
   "metadata": {},
   "source": [
    "# 7.3.1. COURS"
   ]
  },
  {
   "cell_type": "code",
   "execution_count": null,
   "metadata": {},
   "outputs": [],
   "source": [
    "from google.cloud import bigquery\n",
    "\n",
    "# Create a \"Client\" object\n",
    "client = bigquery.Client()\n",
    "\n",
    "# Construct a reference to the \"hacker_news\" dataset\n",
    "dataset_ref = client.dataset(\"hacker_news\", project=\"bigquery-public-data\")\n",
    "\n",
    "# API request - fetch the dataset\n",
    "dataset = client.get_dataset(dataset_ref)\n",
    "\n",
    "# Construct a reference to the \"comments\" table\n",
    "table_ref = dataset_ref.table(\"comments\")\n",
    "\n",
    "# API request - fetch the table\n",
    "table = client.get_table(table_ref)\n",
    "\n",
    "# Preview the first five lines of the \"comments\" table\n",
    "client.list_rows(table, max_results=5).to_dataframe()"
   ]
  },
  {
   "cell_type": "markdown",
   "metadata": {},
   "source": [
    "## 7.3.1.1.COUNT()"
   ]
  },
  {
   "cell_type": "code",
   "execution_count": 2,
   "metadata": {},
   "outputs": [],
   "source": [
    "# COUNT() : compte le nombre de quelquechose\n",
    "\n",
    "query = \"\"\"\n",
    "        SELECT COUNT(ID)\n",
    "        FROM 'bigquery-publicdata.pet_records.pets'\n",
    "        \"\"\"\n",
    "\n",
    "# COUNT() is an example of an aggregate function, which takes many values\n",
    "# and returns one. \n",
    "# (Other examples of aggregate functions include SUM(), AVG(), MIN(), \n",
    "# and MAX().)"
   ]
  },
  {
   "cell_type": "markdown",
   "metadata": {},
   "source": [
    " ## 7.3.1.2. GROUP BY"
   ]
  },
  {
   "cell_type": "code",
   "execution_count": 3,
   "metadata": {},
   "outputs": [],
   "source": [
    "# GROUP BY takes the name of one or more columns, and treats all rows with \n",
    "# the same value in that column as a single group when you apply aggregate \n",
    "# functions like COUNT().\n",
    "\n",
    "query = \"\"\"\n",
    "        SELECT Animal, COUNT(ID)\n",
    "        FROM 'bigquery-publicdata.pet_records.pets'\n",
    "        GROUP BY Animal\n",
    "        \"\"\""
   ]
  },
  {
   "cell_type": "markdown",
   "metadata": {},
   "source": [
    " ## 7.3.1.3. GROUP BY ... HAVING"
   ]
  },
  {
   "cell_type": "code",
   "execution_count": null,
   "metadata": {},
   "outputs": [],
   "source": [
    "# HAVING is used in combination with GROUP BY to ignore groups that don't \n",
    "# meet certain criteria.\n",
    "\n",
    "query = \"\"\"\n",
    "        SELECT Animal, COUNT(ID)\n",
    "        FROM 'bigquery-publicdata.pet_records.pets'\n",
    "        GROUP BY Animal\n",
    "        HAVING COUNT(ID) > 1\n",
    "        \"\"\""
   ]
  },
  {
   "cell_type": "code",
   "execution_count": null,
   "metadata": {},
   "outputs": [],
   "source": [
    "# Query to select comments that received more than 10 replies\n",
    "query_popular = \"\"\"\n",
    "                SELECT parent, COUNT(id)\n",
    "                FROM `bigquery-public-data.hacker_news.comments`\n",
    "                GROUP BY parent\n",
    "                HAVING COUNT(id) > 10\n",
    "                \"\"\""
   ]
  },
  {
   "cell_type": "code",
   "execution_count": 4,
   "metadata": {},
   "outputs": [
    {
     "ename": "NameError",
     "evalue": "name 'bigquery' is not defined",
     "output_type": "error",
     "traceback": [
      "\u001b[1;31m---------------------------------------------------------------------------\u001b[0m",
      "\u001b[1;31mNameError\u001b[0m                                 Traceback (most recent call last)",
      "\u001b[1;32m<ipython-input-4-7bcc399d2da8>\u001b[0m in \u001b[0;36m<module>\u001b[1;34m\u001b[0m\n\u001b[0;32m      4\u001b[0m \u001b[1;31m# Set up the query (cancel the query if it would use too much of\u001b[0m\u001b[1;33m\u001b[0m\u001b[1;33m\u001b[0m\u001b[1;33m\u001b[0m\u001b[0m\n\u001b[0;32m      5\u001b[0m \u001b[1;31m# your quota, with the limit set to 10 GB)\u001b[0m\u001b[1;33m\u001b[0m\u001b[1;33m\u001b[0m\u001b[1;33m\u001b[0m\u001b[0m\n\u001b[1;32m----> 6\u001b[1;33m \u001b[0msafe_config\u001b[0m \u001b[1;33m=\u001b[0m \u001b[0mbigquery\u001b[0m\u001b[1;33m.\u001b[0m\u001b[0mQueryJobConfig\u001b[0m\u001b[1;33m(\u001b[0m\u001b[0mmaximum_bytes_billed\u001b[0m\u001b[1;33m=\u001b[0m\u001b[1;36m10\u001b[0m\u001b[1;33m**\u001b[0m\u001b[1;36m10\u001b[0m\u001b[1;33m)\u001b[0m\u001b[1;33m\u001b[0m\u001b[1;33m\u001b[0m\u001b[0m\n\u001b[0m\u001b[0;32m      7\u001b[0m \u001b[0mquery_job\u001b[0m \u001b[1;33m=\u001b[0m \u001b[0mclient\u001b[0m\u001b[1;33m.\u001b[0m\u001b[0mquery\u001b[0m\u001b[1;33m(\u001b[0m\u001b[0mquery_popular\u001b[0m\u001b[1;33m,\u001b[0m \u001b[0mjob_config\u001b[0m\u001b[1;33m=\u001b[0m\u001b[0msafe_config\u001b[0m\u001b[1;33m)\u001b[0m\u001b[1;33m\u001b[0m\u001b[1;33m\u001b[0m\u001b[0m\n\u001b[0;32m      8\u001b[0m \u001b[1;33m\u001b[0m\u001b[0m\n",
      "\u001b[1;31mNameError\u001b[0m: name 'bigquery' is not defined"
     ]
    }
   ],
   "source": [
    "# Now that our query is ready, let's run it and store the results in a \n",
    "# pandas DataFrame:\n",
    "\n",
    "# Set up the query (cancel the query if it would use too much of \n",
    "# your quota, with the limit set to 10 GB)\n",
    "safe_config = bigquery.QueryJobConfig(maximum_bytes_billed=10**10)\n",
    "query_job = client.query(query_popular, job_config=safe_config)\n",
    "\n",
    "# API request - run the query, and convert the results to a pandas DataFrame\n",
    "popular_comments = query_job.to_dataframe()\n",
    "\n",
    "# Print the first five rows of the DataFrame\n",
    "popular_comments.head()\n",
    "\n",
    "# \tparent\tf0_\n",
    "# 0\t7536283\t45\n",
    "# 1\t4053076\t242\n",
    "# 2\t2530963\t59\n",
    "# 3\t1934367\t70\n",
    "# 4\t8204007\t43"
   ]
  },
  {
   "cell_type": "markdown",
   "metadata": {},
   "source": [
    "### 7.3.1.4. Aliasing and other improvements"
   ]
  },
  {
   "cell_type": "code",
   "execution_count": null,
   "metadata": {},
   "outputs": [],
   "source": [
    "# Improved version of earlier query, now with aliasing & improved readability\n",
    "query_improved = \"\"\"\n",
    "                 SELECT parent, COUNT(1) AS NumPosts\n",
    "                 FROM `bigquery-public-data.hacker_news.comments`\n",
    "                 GROUP BY parent\n",
    "                 HAVING COUNT(1) > 10\n",
    "                 \"\"\"\n",
    "\n",
    "safe_config = bigquery.QueryJobConfig(maximum_bytes_billed=10**10)\n",
    "query_job = client.query(query_improved, job_config=safe_config)\n",
    "\n",
    "# API request - run the query, and convert the results to a pandas DataFrame\n",
    "improved_df = query_job.to_dataframe()\n",
    "\n",
    "# Print the first five rows of the DataFrame\n",
    "improved_df.head()\n",
    "\n",
    "# parent\tNumPosts\n",
    "# 0\t6427895\t46\n",
    "# 1\t202918\t44\n",
    "# 2\t8120079\t148\n",
    "# 3\t9016949\t38\n",
    "# 4\t7075537\t51"
   ]
  },
  {
   "cell_type": "markdown",
   "metadata": {},
   "source": [
    "## 7.3.2. EXERCICES"
   ]
  },
  {
   "cell_type": "code",
   "execution_count": null,
   "metadata": {},
   "outputs": [],
   "source": [
    "from google.cloud import bigquery\n",
    "\n",
    "# Create a \"Client\" object\n",
    "client = bigquery.Client()\n",
    "\n",
    "# Construct a reference to the \"hacker_news\" dataset\n",
    "dataset_ref = client.dataset(\"hacker_news\", project=\"bigquery-public-data\")\n",
    "\n",
    "# API request - fetch the dataset\n",
    "dataset = client.get_dataset(dataset_ref)\n",
    "\n",
    "# Construct a reference to the \"comments\" table\n",
    "table_ref = dataset_ref.table(\"comments\")\n",
    "\n",
    "# API request - fetch the table\n",
    "table = client.get_table(table_ref)\n",
    "\n",
    "# Preview the first five lines of the \"comments\" table\n",
    "client.list_rows(table, max_results=5).to_dataframe()"
   ]
  },
  {
   "cell_type": "code",
   "execution_count": null,
   "metadata": {},
   "outputs": [],
   "source": [
    "# \tid\tby\tauthor\ttime\ttime_ts\ttext\tparent\tdeleted\tdead\tranking\n",
    "# 0\t2701393\t5l\t5l\t1309184881\t2011-06-27 14:28:01+00:00\tAnd the glazier who fixed all the broken windo...\t2701243\tNone\tNone\t0\n",
    "# 1\t5811403\t99\t99\t1370234048\t2013-06-03 04:34:08+00:00\tDoes canada have the equivalent of H1B/Green c...\t5804452\tNone\tNone\t0\n",
    "# 2\t21623\tAF\tAF\t1178992400\t2007-05-12 17:53:20+00:00\tSpeaking of Rails, there are other options in ...\t21611\tNone\tNone\t0\n",
    "# 3\t10159727\tEA\tEA\t1441206574\t2015-09-02 15:09:34+00:00\tHumans and large livestock (and maybe even pet...\t10159396\tNone\tNone\t0\n",
    "# 4\t2988424\tIv\tIv\t1315853580\t2011-09-12 18:53:00+00:00\tI must say I reacted in the same way when I re...\t2988179\tNone\tNone\t0"
   ]
  },
  {
   "cell_type": "markdown",
   "metadata": {},
   "source": [
    "## 7.3.2.1. Prolific commenters"
   ]
  },
  {
   "cell_type": "code",
   "execution_count": null,
   "metadata": {},
   "outputs": [],
   "source": [
    "# Hacker News would like to send awards to everyone who has written more \n",
    "# than 10,000 posts. \n",
    "# Write a query that returns all authors with more than 10,000 posts as \n",
    "# well as their post counts. Call the column with post counts NumPosts."
   ]
  },
  {
   "cell_type": "code",
   "execution_count": null,
   "metadata": {},
   "outputs": [],
   "source": [
    "# Query to select prolific commenters and post counts\n",
    "prolific_commenters_query = \"\"\"\n",
    "                            SELECT author, COUNT(1) AS NumPosts\n",
    "                            FROM `bigquery-public-data.hacker_news.comments`\n",
    "                            GROUP BY author\n",
    "                            HAVING COUNT(1) > 10000\n",
    "                            \"\"\"\n",
    "\n",
    "# Set up the query (cancel the query if it would use too much of \n",
    "# your quota, with the limit set to 1 GB)\n",
    "safe_config = bigquery.QueryJobConfig(maximum_bytes_billed=10**10)\n",
    "query_job = client.query(prolific_commenters_query, job_config=safe_config)\n",
    "\n",
    "# API request - run the query, and return a pandas DataFrame\n",
    "prolific_commenters = query_job.to_dataframe()\n",
    "\n",
    "# View top few rows of results\n",
    "print(prolific_commenters.head())"
   ]
  },
  {
   "cell_type": "code",
   "execution_count": null,
   "metadata": {},
   "outputs": [],
   "source": [
    "#          author  NumPosts\n",
    "# 0           eru     10448\n",
    "# 1       rbanffy     10557\n",
    "# 2  dragonwriter     10723\n",
    "# 3          None    227736\n",
    "# 4         DanBC     12902"
   ]
  },
  {
   "cell_type": "code",
   "execution_count": null,
   "metadata": {},
   "outputs": [],
   "source": [
    "# Query to determine how many posts were deleted\n",
    "deleted_posts_query = \"\"\"\n",
    "                      SELECT COUNT(1) AS num_deleted_posts\n",
    "                      FROM `bigquery-public-data.hacker_news.comments`\n",
    "                      WHERE deleted = True\n",
    "                      \"\"\"\n",
    "\n",
    "# Set up the query\n",
    "query_job = client.query(deleted_posts_query)\n",
    "\n",
    "# API request - run the query, and return a pandas DataFrame\n",
    "deleted_posts = query_job.to_dataframe()\n",
    "\n",
    "# View results\n",
    "print(deleted_posts)\n",
    "\n",
    "num_deleted_posts = 227736"
   ]
  },
  {
   "cell_type": "markdown",
   "metadata": {},
   "source": [
    "## 7.3.2.2. Deleted comments"
   ]
  },
  {
   "cell_type": "code",
   "execution_count": null,
   "metadata": {},
   "outputs": [],
   "source": [
    "# How many comments have been deleted? \n",
    "# (If a comment was deleted, the deleted column in the comments table \n",
    "# will have the value True.)"
   ]
  },
  {
   "cell_type": "code",
   "execution_count": null,
   "metadata": {},
   "outputs": [],
   "source": [
    "# Query to determine how many posts were deleted\n",
    "deleted_posts_query = \"\"\"\n",
    "                      SELECT COUNT(1) AS num_deleted_posts\n",
    "                      FROM `bigquery-public-data.hacker_news.comments`\n",
    "                      WHERE deleted = True\n",
    "                      \"\"\"\n",
    "\n",
    "# Set up the query\n",
    "query_job = client.query(deleted_posts_query)\n",
    "\n",
    "# API request - run the query, and return a pandas DataFrame\n",
    "deleted_posts = query_job.to_dataframe()\n",
    "\n",
    "# View results\n",
    "print(deleted_posts)\n",
    "\n",
    "num_deleted_posts = 227736\n",
    "\n",
    "# num_deleted_posts\n",
    "# 0             227736"
   ]
  },
  {
   "cell_type": "code",
   "execution_count": null,
   "metadata": {},
   "outputs": [],
   "source": []
  }
 ],
 "metadata": {
  "kernelspec": {
   "display_name": "Python 3",
   "language": "python",
   "name": "python3"
  },
  "language_info": {
   "codemirror_mode": {
    "name": "ipython",
    "version": 3
   },
   "file_extension": ".py",
   "mimetype": "text/x-python",
   "name": "python",
   "nbconvert_exporter": "python",
   "pygments_lexer": "ipython3",
   "version": "3.8.5"
  }
 },
 "nbformat": 4,
 "nbformat_minor": 4
}
