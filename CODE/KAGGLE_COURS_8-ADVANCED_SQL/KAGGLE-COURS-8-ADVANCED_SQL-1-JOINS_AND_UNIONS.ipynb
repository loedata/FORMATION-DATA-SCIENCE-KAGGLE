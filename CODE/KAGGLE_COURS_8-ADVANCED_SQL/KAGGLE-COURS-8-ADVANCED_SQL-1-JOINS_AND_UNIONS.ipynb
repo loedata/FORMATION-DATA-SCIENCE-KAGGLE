{
 "cells": [
  {
   "cell_type": "markdown",
   "metadata": {},
   "source": [
    "# 8. ADVANCED SQL"
   ]
  },
  {
   "cell_type": "markdown",
   "metadata": {},
   "source": [
    "# 8.1. JOINS AND UNIONS"
   ]
  },
  {
   "cell_type": "markdown",
   "metadata": {},
   "source": [
    "# 8.1.1. COURS"
   ]
  },
  {
   "cell_type": "markdown",
   "metadata": {},
   "source": [
    "## 8.1.1.1. JOINS"
   ]
  },
  {
   "cell_type": "markdown",
   "metadata": {},
   "source": [
    "## 8.1.1.1.1. INNER JOIN"
   ]
  },
  {
   "cell_type": "code",
   "execution_count": null,
   "metadata": {},
   "outputs": [],
   "source": [
    "# Que les éléments communs entre la table de droite et celle de gauche\n",
    "query = \"\"\"\n",
    "        SELECT o.Name AS Owner_Name, p.Name AS Pet_Name\n",
    "        FROM 'bigquery-public-data.pet_records.owners' AS o\n",
    "        INNER JOIN 'bigquery-public-data.pet_records.pets' AS p\n",
    "        ON p.ID = o.Pet_ID\n",
    "        \"\"\"\n",
    "# Owner_Name       Pet_Name\n",
    "# Aubrey Little    Dr Harris bonkers\n",
    "# Magnus Burnsides Moon\n",
    "# Chett Crawfich   Ripley\n",
    "# Jules Spinner    Tom"
   ]
  },
  {
   "cell_type": "markdown",
   "metadata": {},
   "source": [
    "## 8.1.1.1.2. LEFT JOIN"
   ]
  },
  {
   "cell_type": "code",
   "execution_count": null,
   "metadata": {},
   "outputs": [],
   "source": [
    "# Tous les éléments de la table de gauche\n",
    "query = \"\"\"\n",
    "        SELECT o.Name AS Owner_Name, p.Name AS Pet_Name\n",
    "        FROM 'bigquery-public-data.pet_records.owners' AS o\n",
    "        LEFT JOIN 'bigquery-public-data.pet_records.pets' AS p\n",
    "        ON p.ID = o.Pet_ID\n",
    "        \"\"\"\n",
    "# Owner_Name       Pet_Name\n",
    "# Aubrey Little    Dr Harris bonkers\n",
    "# Magnus Burnsides Moon\n",
    "# Chett Crawfich   Ripley\n",
    "# Jules Spinner    Tom\n",
    "# Veronica Dunn    NULL"
   ]
  },
  {
   "cell_type": "markdown",
   "metadata": {},
   "source": [
    "## 8.1.1.1.3. RIGHT JOIN"
   ]
  },
  {
   "cell_type": "code",
   "execution_count": null,
   "metadata": {},
   "outputs": [],
   "source": [
    "# Tous les éléments de la table de droite\n",
    "query = \"\"\"\n",
    "        SELECT o.Name AS Owner_Name, p.Name AS Pet_Name\n",
    "        FROM 'bigquery-public-data.pet_records.owners' AS o\n",
    "        LEFT JOIN 'bigquery-public-data.pet_records.pets' AS p\n",
    "        ON p.ID = o.Pet_ID\n",
    "        \"\"\"\n",
    "# Owner_Name       Pet_Name\n",
    "# Aubrey Little    Dr Harris bonkers\n",
    "# Magnus Burnsides Moon\n",
    "# Chett Crawfich   Ripley\n",
    "# Jules Spinner    Tom\n",
    "# NULL             Maisie"
   ]
  },
  {
   "cell_type": "markdown",
   "metadata": {},
   "source": [
    "## 8.1.1.1.4. FULL JOIN"
   ]
  },
  {
   "cell_type": "code",
   "execution_count": null,
   "metadata": {},
   "outputs": [],
   "source": [
    "# Tous les éléments de toutes les tables\n"
   ]
  },
  {
   "cell_type": "code",
   "execution_count": null,
   "metadata": {},
   "outputs": [],
   "source": [
    "# Tous les éléments de la table de gauche\n",
    "query = \"\"\"\n",
    "        SELECT o.Name AS Owner_Name, p.Name AS Pet_Name\n",
    "        FROM 'bigquery-public-data.pet_records.owners' AS o\n",
    "        LEFT JOIN 'bigquery-public-data.pet_records.pets' AS p\n",
    "        ON p.ID = o.Pet_ID\n",
    "        \"\"\"\n",
    "# Owner_Name       Pet_Name\n",
    "# Aubrey Little    Dr Harris bonkers\n",
    "# Magnus Burnsides Moon\n",
    "# Chett Crawfich   Ripley\n",
    "# Jules Spinner    Tom\n",
    "# Veronica Dunn    NULL\n",
    "# NULL             Maisie"
   ]
  },
  {
   "cell_type": "markdown",
   "metadata": {},
   "source": [
    "## 8.1.1.2. UNIONS"
   ]
  },
  {
   "cell_type": "markdown",
   "metadata": {},
   "source": [
    "## 8.1.1.2.1. UNION ALL"
   ]
  },
  {
   "cell_type": "code",
   "execution_count": null,
   "metadata": {},
   "outputs": [],
   "source": [
    "# Tous les éléments des 2 tables doublons possibles\n",
    "query = \"\"\"\n",
    "        SELECT Age FROM 'bigquery-public-data.pet_records.owners' \n",
    "        UNION ALL\n",
    "        SELECT Age FROM 'bigquery-public-data.pet_records.pets' \n",
    "        \"\"\"\n",
    "# ATTENTION : les éléments sélectionnés des 2 tables doivent avoir le même\n",
    "# nom ou les mêmes noms\n",
    "# REMARQUE : il peut y avoir des doublons"
   ]
  },
  {
   "cell_type": "markdown",
   "metadata": {},
   "source": [
    "## 8.1.1.2.2. UNION DISTINCT"
   ]
  },
  {
   "cell_type": "code",
   "execution_count": null,
   "metadata": {},
   "outputs": [],
   "source": [
    "# Tous les éléments différents/uniques des 2 tables pas de doublons\n",
    "query = \"\"\"\n",
    "        SELECT Age FROM 'bigquery-public-data.pet_records.owners' \n",
    "        UNION DISTNCT\n",
    "        SELECT Age FROM 'bigquery-public-data.pet_records.pets' \n",
    "        \"\"\"\n",
    "# ATTENTION : les éléments sélectionnés des 2 tables doivent avoir le même\n",
    "# nom ou les mêmes noms"
   ]
  },
  {
   "cell_type": "markdown",
   "metadata": {},
   "source": [
    "## 8.1.1.3. EXEMPLES"
   ]
  },
  {
   "cell_type": "code",
   "execution_count": null,
   "metadata": {},
   "outputs": [],
   "source": [
    "# Query to select all stories posted on January 1, 2012, with number of comments\n",
    "join_query = \"\"\"\n",
    "             WITH c AS\n",
    "             (\n",
    "             SELECT parent, COUNT(*) as num_comments\n",
    "             FROM `bigquery-public-data.hacker_news.comments` \n",
    "             GROUP BY parent\n",
    "             )\n",
    "             SELECT s.id as story_id, s.by, s.title, c.num_comments\n",
    "             FROM `bigquery-public-data.hacker_news.stories` AS s\n",
    "             LEFT JOIN c\n",
    "             ON s.id = c.parent\n",
    "             WHERE EXTRACT(DATE FROM s.time_ts) = '2012-01-01'\n",
    "             ORDER BY c.num_comments DESC\n",
    "             \"\"\"\n",
    "\n",
    "# Run the query, and return a pandas DataFrame\n",
    "join_result = client.query(join_query).result().to_dataframe()\n",
    "join_result.head()\n",
    "\n",
    "# \tstory_id\tby\ttitle\tnum_comments\n",
    "# 0\t3412900\twhoishiring\tAsk HN: Who is Hiring? (January 2012)\t154.0\n",
    "# 1\t3412901\twhoishiring\tAsk HN: Freelancer? Seeking freelancer? (Janua...\t97.0\n",
    "# 2\t3412643\tjemeshsu\tAvoid Apress\t30.0\n",
    "# 3\t3412891\tBrajeshwar\tThere's no shame in code that is simply \"good ...\t27.0\n",
    "# 4\t3414012\tramanujam\tImpress.js - a Prezi like implementation using...\t27.0"
   ]
  },
  {
   "cell_type": "code",
   "execution_count": null,
   "metadata": {},
   "outputs": [],
   "source": [
    "# None of these stories received any comments\n",
    "join_result.tail()\n",
    "\n",
    "# \tstory_id\tby\ttitle\tnum_comments\n",
    "# 439\t3413269\twireheadlance\tOn 2011: The Year of System Failure\tNaN\n",
    "# 440\t3412995\tbenjlang\tAndroid app search engine\tNaN\n",
    "# 441\t3413806\tjensnockert\tNyan Cat progress indicators for your Mac\tNaN\n",
    "# 442\t3412769\tsyedmuddassar\tBallroom Dance Shoes\tNaN\n",
    "# 443\t3413361\tlearnphp123\tEasy AJAX Pagination Using JQuery CakePHP\tNaN"
   ]
  },
  {
   "cell_type": "code",
   "execution_count": null,
   "metadata": {},
   "outputs": [],
   "source": [
    "# Query to select all users who posted stories or comments on January 1, 2014\n",
    "union_query = \"\"\"\n",
    "              SELECT c.by\n",
    "              FROM `bigquery-public-data.hacker_news.comments` AS c\n",
    "              WHERE EXTRACT(DATE FROM c.time_ts) = '2014-01-01'\n",
    "              UNION DISTINCT\n",
    "              SELECT s.by\n",
    "              FROM `bigquery-public-data.hacker_news.stories` AS s\n",
    "              WHERE EXTRACT(DATE FROM s.time_ts) = '2014-01-01'\n",
    "              \"\"\"\n",
    "\n",
    "# Run the query, and return a pandas DataFrame\n",
    "union_result = client.query(union_query).result().to_dataframe()\n",
    "union_result.head()\n",
    "\n",
    "# \tby\n",
    "# 0\tvitd\n",
    "# 1\tgpvos\n",
    "# 2\tmbell\n",
    "# 3\tznowi\n",
    "# 4\tGSimon"
   ]
  },
  {
   "cell_type": "code",
   "execution_count": null,
   "metadata": {},
   "outputs": [],
   "source": [
    "# Number of users who posted stories or comments on January 1, 2014\n",
    "len(union_result)\n",
    "\n",
    "# 2282"
   ]
  },
  {
   "cell_type": "markdown",
   "metadata": {},
   "source": [
    "# 8.1.2. EXERCICES"
   ]
  },
  {
   "cell_type": "code",
   "execution_count": null,
   "metadata": {},
   "outputs": [],
   "source": [
    "from google.cloud import bigquery\n",
    "\n",
    "# Create a \"Client\" object\n",
    "client = bigquery.Client()\n",
    "\n",
    "# Construct a reference to the \"stackoverflow\" dataset\n",
    "dataset_ref = client.dataset(\"stackoverflow\", project=\"bigquery-public-data\")\n",
    "\n",
    "# API request - fetch the dataset\n",
    "dataset = client.get_dataset(dataset_ref)\n",
    "\n",
    "# Construct a reference to the \"posts_questions\" table\n",
    "table_ref = dataset_ref.table(\"posts_questions\")\n",
    "\n",
    "# API request - fetch the table\n",
    "table = client.get_table(table_ref)\n",
    "\n",
    "# Preview the first five lines of the table\n",
    "client.list_rows(table, max_results=5).to_dataframe()"
   ]
  },
  {
   "cell_type": "code",
   "execution_count": null,
   "metadata": {},
   "outputs": [],
   "source": [
    "# Construct a reference to the \"posts_answers\" table\n",
    "table_ref = dataset_ref.table(\"posts_answers\")\n",
    "\n",
    "# API request - fetch the table\n",
    "table = client.get_table(table_ref)\n",
    "\n",
    "# Preview the first five lines of the table\n",
    "client.list_rows(table, max_results=5).to_dataframe()"
   ]
  },
  {
   "cell_type": "markdown",
   "metadata": {},
   "source": [
    "## 8.1.2.1. How long does it take for questions to receive answers?"
   ]
  },
  {
   "cell_type": "code",
   "execution_count": null,
   "metadata": {},
   "outputs": [],
   "source": [
    "# You're interested in exploring the data to have a better understanding \n",
    "# of how long it generally takes for questions to receive answers. \n",
    "# Armed with this knowledge, you plan to use this information to better \n",
    "# design the order in which questions are presented to Stack Overflow users.\n",
    "\n",
    "# With this goal in mind, you write the query below, which focuses on \n",
    "# questions asked in January 2018. \n",
    "# It returns a table with two columns:\n",
    "#  - q_id - the ID of the question\n",
    "#  - time_to_answer - how long it took (in seconds) for the question to \n",
    "#    receive an answer"
   ]
  },
  {
   "cell_type": "code",
   "execution_count": null,
   "metadata": {},
   "outputs": [],
   "source": [
    "first_query = \"\"\"\n",
    "              SELECT q.id AS q_id,\n",
    "                  MIN(TIMESTAMP_DIFF(a.creation_date, q.creation_date, SECOND)) as time_to_answer\n",
    "              FROM `bigquery-public-data.stackoverflow.posts_questions` AS q\n",
    "                    INNER JOIN `bigquery-public-data.stackoverflow.posts_answers` AS a\n",
    "              ON q.id = a.parent_id\n",
    "              WHERE q.creation_date >= '2018-01-01' and q.creation_date < '2018-02-01'\n",
    "              GROUP BY q_id\n",
    "              ORDER BY time_to_answer\n",
    "              \"\"\"\n",
    "\n",
    "first_result = client.query(first_query).result().to_dataframe()\n",
    "print(\"Percentage of answered questions: %s%%\" % \\\n",
    "      (sum(first_result[\"time_to_answer\"].notnull()) / len(first_result) * 100))\n",
    "print(\"Number of questions:\", len(first_result))\n",
    "first_result.head()\n",
    "\n",
    "Percentage of answered questions: 100.0%\n",
    "Number of questions: 134526\n",
    "    \n",
    "# \tq_id\ttime_to_answer\n",
    "# 0\t48369687\t0\n",
    "# 1\t48350506\t0\n",
    "# 2\t48054907\t0\n",
    "# 3\t48118024\t0\n",
    "# 4\t48123689\t0"
   ]
  },
  {
   "cell_type": "code",
   "execution_count": 1,
   "metadata": {},
   "outputs": [],
   "source": [
    "# You're surprised at the results and strongly suspect that something is \n",
    "# wrong with your query. In particular,\n",
    "\n",
    "# According to the query, 100% of the questions from January 2018 received \n",
    "# an answer. But, you know that ~80% of the questions on the site usually \n",
    "# receive an answer.\n",
    "# The total number of questions is surprisingly low. You expected to see at\n",
    "# least 150,000 questions represented in the table.\n",
    "# Given these observations, you think that the type of JOIN you have chosen\n",
    "# has inadvertently excluded unanswered questions. \n",
    "# Using the code cell below, can you figure out what type of JOIN to use \n",
    "# to fix the problem so that the table includes unanswered questions?\n",
    "\n",
    "# Note: You need only amend the type of JOIN (i.e., INNER, LEFT, RIGHT, or \n",
    "# FULL) to answer the question successfully."
   ]
  },
  {
   "cell_type": "markdown",
   "metadata": {},
   "source": [
    "# 8.1.2.2. Initial questions and answers, Part 1"
   ]
  },
  {
   "cell_type": "code",
   "execution_count": null,
   "metadata": {},
   "outputs": [],
   "source": [
    "# You're interested in understanding the initial experiences that users \n",
    "# typically have with the Stack Overflow website. \n",
    "# Is it more common for users to first ask questions or provide answers? \n",
    "# After signing up, how long does it take for users to first interact with \n",
    "# the website? To explore this further, you draft the (partial) query in \n",
    "# the code cell below.\n",
    "\n",
    "# The query returns a table with three columns:\n",
    "#  - owner_user_id - the user ID\n",
    "#  - q_creation_date - the first time the user asked a question\n",
    "#  - a_creation_date - the first time the user contributed an answer"
   ]
  },
  {
   "cell_type": "code",
   "execution_count": null,
   "metadata": {},
   "outputs": [],
   "source": [
    "# Your code here\n",
    "q_and_a_query = \"\"\"\n",
    "                SELECT q.owner_user_id AS owner_user_id,\n",
    "                    MIN(q.creation_date) AS q_creation_date,\n",
    "                    MIN(a.creation_date) AS a_creation_date\n",
    "                FROM `bigquery-public-data.stackoverflow.posts_questions` AS q\n",
    "                    FULL JOIN `bigquery-public-data.stackoverflow.posts_answers` AS a\n",
    "                ON q.owner_user_id = a.owner_user_id \n",
    "                WHERE q.creation_date >= '2019-01-01' AND q.creation_date < '2019-02-01' \n",
    "                    AND a.creation_date >= '2019-01-01' AND a.creation_date < '2019-02-01'\n",
    "                GROUP BY owner_user_id\n",
    "                \"\"\"\n",
    "\n",
    "# owner_user_id\tq_creation_date\ta_creation_date\n",
    "# 0\t10938008\t2019-01-19 16:27:53.953000+00:00\t2019-01-19 19:17:06.910000+00:00\n",
    "# 1\t8986917\t2019-01-27 18:50:10.753000+00:00\t2019-01-18 19:10:26.380000+00:00\n",
    "# 2\t7840155\t2019-01-08 09:10:22.257000+00:00\t2019-01-19 22:30:48.383000+00:00\n",
    "# 3\t5772095\t2019-01-16 11:27:00.510000+00:00\t2019-01-16 23:23:56.940000+00:00\n",
    "# 4\t7675437\t2019-01-15 10:26:14.527000+00:00\t2019-01-01 02:39:23.947000+00:00"
   ]
  },
  {
   "cell_type": "markdown",
   "metadata": {},
   "source": [
    "# 8.1.2.3.  Initial questions and answers, Part 2"
   ]
  },
  {
   "cell_type": "code",
   "execution_count": null,
   "metadata": {},
   "outputs": [],
   "source": [
    "# Write a query that returns the following columns:\n",
    "\n",
    "# id - the IDs of all users who created Stack Overflow accounts in January 2\n",
    "# 019 (January 1, 2019, to January 31, 2019, inclusive)\n",
    "# q_creation_date - the first time the user posted a question on the site; \n",
    "# if the user has never posted a question, the value should be null\n",
    "# a_creation_date - the first time the user posted a question on the site; \n",
    "# if the user has never posted a question, the value should be null"
   ]
  },
  {
   "cell_type": "code",
   "execution_count": null,
   "metadata": {},
   "outputs": [],
   "source": [
    "# Your code here\n",
    "three_tables_query = \"\"\"\n",
    "                     SELECT u.id AS id,\n",
    "                         MIN(q.creation_date) AS q_creation_date,\n",
    "                         MIN(a.creation_date) AS a_creation_date\n",
    "                     FROM `bigquery-public-data.stackoverflow.users` AS u\n",
    "                         LEFT JOIN `bigquery-public-data.stackoverflow.posts_answers` AS a\n",
    "                             ON u.id = a.owner_user_id\n",
    "                         LEFT JOIN `bigquery-public-data.stackoverflow.posts_questions` AS q\n",
    "                             ON q.owner_user_id = u.id\n",
    "                     WHERE u.creation_date >= '2019-01-01' and u.creation_date < '2019-02-01'\n",
    "                     GROUP BY id\n",
    "                     \"\"\"\n",
    "\n",
    "\tid\tq_creation_date\ta_creation_date\n",
    "0\t10991255\t2019-01-30 15:49:51.077000+00:00\t2019-02-17 11:03:45.440000+00:00\n",
    "1\t10947844\tNaT\tNaT\n",
    "2\t10925137\tNaT\tNaT\n",
    "3\t10984435\tNaT\tNaT\n",
    "4\t10991739\tNaT\tNaT"
   ]
  },
  {
   "cell_type": "markdown",
   "metadata": {},
   "source": [
    "# 8.1.2.4.  How many distinct users posted on January 1, 2019?"
   ]
  },
  {
   "cell_type": "code",
   "execution_count": null,
   "metadata": {},
   "outputs": [],
   "source": [
    "# In the code cell below, write a query that returns a table with a single \n",
    "# column:\n",
    "# - owner_user_id - the IDs of all users who posted at least one question \n",
    "#   or answer on January 1, 2019. Each user ID should appear at most once.\n",
    "\n",
    "# In the posts_questions (and posts_answers) tables, you can get the ID of \n",
    "# the original poster from the owner_user_id column. Likewise, the date of \n",
    "# the original posting can be found in the creation_date column.\n",
    "\n",
    "# In order for your answer to be marked correct, your query must use a \n",
    "# UNION."
   ]
  },
  {
   "cell_type": "code",
   "execution_count": null,
   "metadata": {},
   "outputs": [],
   "source": [
    "# Your code here\n",
    "all_users_query = \"\"\"\n",
    "                  SELECT q.owner_user_id \n",
    "                  FROM `bigquery-public-data.stackoverflow.posts_questions` AS q\n",
    "                  WHERE EXTRACT(DATE FROM q.creation_date) = '2019-01-01'\n",
    "                  UNION DISTINCT\n",
    "                  SELECT a.owner_user_id\n",
    "                  FROM `bigquery-public-data.stackoverflow.posts_answers` AS a\n",
    "                  WHERE EXTRACT(DATE FROM a.creation_date) = '2019-01-01'\n",
    "                  \"\"\"\n",
    "\n",
    "# owner_user_id\n",
    "# 0\t8607740.0\n",
    "# 1\t104080.0\n",
    "# 2\t7585847.0\n",
    "# 3\t1621517.0\n",
    "# 4\t44852.0"
   ]
  },
  {
   "cell_type": "code",
   "execution_count": null,
   "metadata": {},
   "outputs": [],
   "source": []
  }
 ],
 "metadata": {
  "kernelspec": {
   "display_name": "Python 3",
   "language": "python",
   "name": "python3"
  },
  "language_info": {
   "codemirror_mode": {
    "name": "ipython",
    "version": 3
   },
   "file_extension": ".py",
   "mimetype": "text/x-python",
   "name": "python",
   "nbconvert_exporter": "python",
   "pygments_lexer": "ipython3",
   "version": "3.8.5"
  }
 },
 "nbformat": 4,
 "nbformat_minor": 4
}
