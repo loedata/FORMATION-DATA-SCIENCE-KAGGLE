{
 "cells": [
  {
   "cell_type": "markdown",
   "metadata": {},
   "source": [
    "# 8. ADVANCED SQL"
   ]
  },
  {
   "cell_type": "markdown",
   "metadata": {},
   "source": [
    "# 8.2. ANALYTIC FUNCTIONS"
   ]
  },
  {
   "cell_type": "markdown",
   "metadata": {},
   "source": [
    "# 8.2.1. COURS"
   ]
  },
  {
   "cell_type": "markdown",
   "metadata": {},
   "source": [
    "## 8.2.1.1. SYNTAX"
   ]
  },
  {
   "cell_type": "code",
   "execution_count": null,
   "metadata": {},
   "outputs": [],
   "source": [
    "query = \"\"\"\n",
    "        SELECT *,\n",
    "               AVG(time) OVER(\n",
    "                              PARTITION BY id\n",
    "                              ORDER BY date\n",
    "                              ROWS BETWWEN 1 PRECEDING AND CURRENT ROW\n",
    "                             ) as avg_time\n",
    "        FROM 'bigquery-public-data.runners_train_time'\n",
    "        \"\"\"\n",
    "# OVER : définit les ensembles de lignes utilisés dans chaque calcul.\n",
    "# PARTITION BY : divise les lignes de la table en différents groupes. \n",
    "# Dans la requête ci-dessus, nous divisons par id afin que les calculs \n",
    "# soient séparés par coureur.\n",
    "# ORDER BY : défini un ordre dans chaque partition. \n",
    "# Dans l'exemple de requête, le classement par colonne de date garanti \n",
    "# que les sessions de formation précédentes apparaissent en premier.\n",
    "# window frame : identifie l'ensemble de lignes utilisé dans chaque calcul.\n",
    "# Nous pouvons désigner ce groupe de lignes comme une fenêtre. \n",
    "# (En fait, les fonctions analytiques sont parfois appelées fonctions de \n",
    "# fenêtre analytique ou simplement fonctions de fenêtre!)"
   ]
  },
  {
   "cell_type": "markdown",
   "metadata": {},
   "source": [
    "## 8.2.1.2. WINDOWS FRAME"
   ]
  },
  {
   "cell_type": "code",
   "execution_count": null,
   "metadata": {},
   "outputs": [],
   "source": [
    "# There are many ways to write window frame clauses:\n",
    "\n",
    "# ROWS BETWEEN 1 PRECEDING AND CURRENT ROW \n",
    "# - the previous row and the current row.\n",
    "\n",
    "# ROWS BETWEEN 3 PRECEDING AND 1 FOLLOWING \n",
    "# - the 3 previous rows, the current row, and the following row.\n",
    "\n",
    "# ROWS BETWEEN UNBOUNDED PRECEDING AND UNBOUNDED FOLLOWING \n",
    "# - all rows in the partition."
   ]
  },
  {
   "cell_type": "markdown",
   "metadata": {},
   "source": [
    "## 8.2.1.3. 3 TYPES ANALYTIC FUNCTIONS"
   ]
  },
  {
   "cell_type": "markdown",
   "metadata": {},
   "source": [
    "## 8.2.1.3.1. ANALYTIC AGGREGATE FUNCTIONS"
   ]
  },
  {
   "cell_type": "code",
   "execution_count": null,
   "metadata": {},
   "outputs": [],
   "source": [
    "# Aggregate functions take all of the values within the window as input \n",
    "# # and return a single value.\n",
    "# - MIN() (or MAX()) - Returns the minimum (or maximum) of input values\n",
    "# - AVG() (or SUM()) - Returns the average (or sum) of input values\n",
    "# - COUNT() - Returns the number of rows in the input"
   ]
  },
  {
   "cell_type": "markdown",
   "metadata": {},
   "source": [
    "## 8.2.1.3.2. ANALYTIC NAVIGATION FUNCTIONS"
   ]
  },
  {
   "cell_type": "code",
   "execution_count": null,
   "metadata": {},
   "outputs": [],
   "source": [
    "# Navigation functions assign a value based on the value in a (usually) \n",
    "# different row than the current row.\n",
    "# - FIRST_VALUE() (or LAST_VALUE()) - Returns the first (or last) value \n",
    "#   in the input\n",
    "# - LEAD() (and LAG()) - Returns the value on a subsequent (or preceding) \n",
    "#   row"
   ]
  },
  {
   "cell_type": "markdown",
   "metadata": {},
   "source": [
    "## 8.2.1.3.3. ANALYTIC NUMBERING FUNCTIONS"
   ]
  },
  {
   "cell_type": "code",
   "execution_count": null,
   "metadata": {},
   "outputs": [],
   "source": [
    "# Numbering functions assign integer values to each row based on the \n",
    "# ordering.\n",
    "# - ROW_NUMBER() - Returns the order in which rows appear in the input \n",
    "#   (starting with 1)\n",
    "# - RANK() - All rows with the same value in the ordering column receive \n",
    "#   the same rank value, where the next row receives a rank value which \n",
    "#   increments by the number of rows with the previous rank value."
   ]
  },
  {
   "cell_type": "markdown",
   "metadata": {},
   "source": [
    "## 8.2.1.3.4. EXEMPLES"
   ]
  },
  {
   "cell_type": "code",
   "execution_count": null,
   "metadata": {},
   "outputs": [],
   "source": []
  },
  {
   "cell_type": "code",
   "execution_count": 2,
   "metadata": {},
   "outputs": [
    {
     "ename": "NameError",
     "evalue": "name 'client' is not defined",
     "output_type": "error",
     "traceback": [
      "\u001b[1;31m---------------------------------------------------------------------------\u001b[0m",
      "\u001b[1;31mNameError\u001b[0m                                 Traceback (most recent call last)",
      "\u001b[1;32m<ipython-input-2-ab3233864916>\u001b[0m in \u001b[0;36m<module>\u001b[1;34m\u001b[0m\n\u001b[0;32m     22\u001b[0m \u001b[1;33m\u001b[0m\u001b[0m\n\u001b[0;32m     23\u001b[0m \u001b[1;31m# Run the query, and return a pandas DataFrame\u001b[0m\u001b[1;33m\u001b[0m\u001b[1;33m\u001b[0m\u001b[1;33m\u001b[0m\u001b[0m\n\u001b[1;32m---> 24\u001b[1;33m \u001b[0mstart_end_result\u001b[0m \u001b[1;33m=\u001b[0m \u001b[0mclient\u001b[0m\u001b[1;33m.\u001b[0m\u001b[0mquery\u001b[0m\u001b[1;33m(\u001b[0m\u001b[0mstart_end_query\u001b[0m\u001b[1;33m)\u001b[0m\u001b[1;33m.\u001b[0m\u001b[0mresult\u001b[0m\u001b[1;33m(\u001b[0m\u001b[1;33m)\u001b[0m\u001b[1;33m.\u001b[0m\u001b[0mto_dataframe\u001b[0m\u001b[1;33m(\u001b[0m\u001b[1;33m)\u001b[0m\u001b[1;33m\u001b[0m\u001b[1;33m\u001b[0m\u001b[0m\n\u001b[0m\u001b[0;32m     25\u001b[0m \u001b[0mstart_end_result\u001b[0m\u001b[1;33m.\u001b[0m\u001b[0mhead\u001b[0m\u001b[1;33m(\u001b[0m\u001b[1;33m)\u001b[0m\u001b[1;33m\u001b[0m\u001b[1;33m\u001b[0m\u001b[0m\n\u001b[0;32m     26\u001b[0m \u001b[1;33m\u001b[0m\u001b[0m\n",
      "\u001b[1;31mNameError\u001b[0m: name 'client' is not defined"
     ]
    }
   ],
   "source": [
    "# Query to track beginning and ending stations on October 25, 2015, for each bike\n",
    "start_end_query = \"\"\"\n",
    "                  SELECT bike_number,\n",
    "                      TIME(start_date) AS trip_time,\n",
    "                      FIRST_VALUE(start_station_id)\n",
    "                          OVER (\n",
    "                               PARTITION BY bike_number\n",
    "                               ORDER BY start_date\n",
    "                               ROWS BETWEEN UNBOUNDED PRECEDING AND UNBOUNDED FOLLOWING\n",
    "                               ) AS first_station_id,\n",
    "                      LAST_VALUE(end_station_id)\n",
    "                          OVER (\n",
    "                               PARTITION BY bike_number\n",
    "                               ORDER BY start_date\n",
    "                               ROWS BETWEEN UNBOUNDED PRECEDING AND UNBOUNDED FOLLOWING\n",
    "                               ) AS last_station_id,\n",
    "                      start_station_id,\n",
    "                      end_station_id\n",
    "                  FROM `bigquery-public-data.san_francisco.bikeshare_trips`\n",
    "                  WHERE DATE(start_date) = '2015-10-25' \n",
    "                  \"\"\"\n",
    "\n",
    "# Run the query, and return a pandas DataFrame\n",
    "start_end_result = client.query(start_end_query).result().to_dataframe()\n",
    "start_end_result.head()\n",
    "\n",
    "# \tbike_number\ttrip_time\tfirst_station_id\tlast_station_id\tstart_station_id\tend_station_id\n",
    "# 0\t22\t13:25:00\t2\t16\t2\t16\n",
    "# 1\t25\t11:43:00\t77\t51\t77\t60\n",
    "# 2\t25\t12:14:00\t77\t51\t60\t51\n",
    "# 3\t29\t14:59:00\t46\t74\t46\t60\n",
    "# 4\t29\t21:23:00\t46\t74\t60\t74\n",
    "\n",
    "# Since there is no PARTITION BY clause, the entire table is treated as a \n",
    "# single partition.\n",
    "# The ORDER BY clause orders the rows by date, where earlier dates appear \n",
    "# first.\n",
    "# By setting the window frame clause to ROWS BETWEEN UNBOUNDED PRECEDING \n",
    "# AND CURRENT ROW, we ensure that all rows up to and including the current \n",
    "# date are used to calculate the (cumulative) sum. \n",
    "# (Note: If you read the documentation, you'll see that this is the default \n",
    "# behavior, and so the query would return the same result if we left out \n",
    "# this window frame clause.)"
   ]
  },
  {
   "cell_type": "code",
   "execution_count": null,
   "metadata": {},
   "outputs": [],
   "source": [
    "# Query to track beginning and ending stations on October 25, 2015, for each bike\n",
    "start_end_query = \"\"\"\n",
    "                  SELECT bike_number,\n",
    "                      TIME(start_date) AS trip_time,\n",
    "                      FIRST_VALUE(start_station_id)\n",
    "                          OVER (\n",
    "                               PARTITION BY bike_number\n",
    "                               ORDER BY start_date\n",
    "                               ROWS BETWEEN UNBOUNDED PRECEDING AND UNBOUNDED FOLLOWING\n",
    "                               ) AS first_station_id,\n",
    "                      LAST_VALUE(end_station_id)\n",
    "                          OVER (\n",
    "                               PARTITION BY bike_number\n",
    "                               ORDER BY start_date\n",
    "                               ROWS BETWEEN UNBOUNDED PRECEDING AND UNBOUNDED FOLLOWING\n",
    "                               ) AS last_station_id,\n",
    "                      start_station_id,\n",
    "                      end_station_id\n",
    "                  FROM `bigquery-public-data.san_francisco.bikeshare_trips`\n",
    "                  WHERE DATE(start_date) = '2015-10-25' \n",
    "                  \"\"\"\n",
    "\n",
    "# Run the query, and return a pandas DataFrame\n",
    "start_end_result = client.query(start_end_query).result().to_dataframe()\n",
    "start_end_result.head()\n",
    "\n",
    "# \tbike_number\ttrip_time\tfirst_station_id\tlast_station_id\tstart_station_id\tend_station_id\n",
    "# 0\t22\t13:25:00\t2\t16\t2\t16\n",
    "# 1\t25\t11:43:00\t77\t51\t77\t60\n",
    "# 2\t25\t12:14:00\t77\t51\t60\t51\n",
    "# 3\t29\t14:59:00\t46\t74\t46\t60\n",
    "# 4\t29\t21:23:00\t46\t74\t60\t74\n",
    "\n",
    "# The query uses both FIRST_VALUE() and LAST_VALUE() as analytic functions.\n",
    "# The PARTITION BY clause breaks the data into partitions based on the \n",
    "# bike_number column. Since this column holds unique identifiers for the \n",
    "# bikes, this ensures the calculations are performed separately for each\n",
    "# bike.\n",
    "# The ORDER BY clause puts the rows within each partition in chronological \n",
    "# order.\n",
    "# Since the window frame clause is ROWS BETWEEN UNBOUNDED PRECEDING AND \n",
    "# UNBOUNDED FOLLOWING, for each row, its entire partition is used to \n",
    "# perform the calculation. (This ensures the calculated values for rows in \n",
    "# the same partition are identical.)"
   ]
  },
  {
   "cell_type": "markdown",
   "metadata": {},
   "source": [
    "# 8.2.2. EXERCICES"
   ]
  },
  {
   "cell_type": "code",
   "execution_count": null,
   "metadata": {},
   "outputs": [],
   "source": [
    "from google.cloud import bigquery\n",
    "\n",
    "# Create a \"Client\" object\n",
    "client = bigquery.Client()\n",
    "\n",
    "# Construct a reference to the \"chicago_taxi_trips\" dataset\n",
    "dataset_ref = client.dataset(\"chicago_taxi_trips\", project=\"bigquery-public-data\")\n",
    "\n",
    "# API request - fetch the dataset\n",
    "dataset = client.get_dataset(dataset_ref)\n",
    "\n",
    "# Construct a reference to the \"taxi_trips\" table\n",
    "table_ref = dataset_ref.table(\"taxi_trips\")\n",
    "\n",
    "# API request - fetch the table\n",
    "table = client.get_table(table_ref)\n",
    "\n",
    "# Preview the first five lines of the table\n",
    "client.list_rows(table, max_results=5).to_dataframe()"
   ]
  },
  {
   "cell_type": "markdown",
   "metadata": {},
   "source": [
    "## 8.2.2.1. How can you predict the demand for taxis?"
   ]
  },
  {
   "cell_type": "code",
   "execution_count": null,
   "metadata": {},
   "outputs": [],
   "source": [
    "# Say you work for a taxi company, and you're interested in predicting the \n",
    "# demand for taxis. Towards this goal, you'd like to create a plot that \n",
    "# shows a rolling average of the daily number of taxi trips. Amend the \n",
    "# (partial) query below to return a DataFrame with two columns:\n",
    "# - trip_date - contains one entry for each date from January 1, 2016, \n",
    "#   to December 31, 2017.\n",
    "# - avg_num_trips - shows the average number of daily trips, calculated \n",
    "#   over a window including the value for the current date, along with the\n",
    "#   values for the preceding 15 days and the following 15 days, as long as \n",
    "#   the days fit within the two-year time frame. For instance, when \n",
    "#   calculating the value in this column for January 5, 2016, the window \n",
    "#   will include the number of trips for the preceding 4 days, the current \n",
    "#   date, and the following 15 days."
   ]
  },
  {
   "cell_type": "code",
   "execution_count": null,
   "metadata": {},
   "outputs": [],
   "source": [
    "# Fill in the blank below\n",
    "avg_num_trips_query = \"\"\"\n",
    "                      WITH trips_by_day AS\n",
    "                      (\n",
    "                      SELECT DATE(trip_start_timestamp) AS trip_date,\n",
    "                          COUNT(*) as num_trips\n",
    "                      FROM `bigquery-public-data.chicago_taxi_trips.taxi_trips`\n",
    "                      WHERE trip_start_timestamp >= '2016-01-01' AND trip_start_timestamp < '2018-01-01'\n",
    "                      GROUP BY trip_date\n",
    "                      ORDER BY trip_date\n",
    "                      )\n",
    "                      SELECT trip_date,\n",
    "                          AVG(num_trips) \n",
    "                          OVER (\n",
    "                               ORDER BY trip_date\n",
    "                               ROWS BETWEEN 15 PRECEDING AND 15 FOLLOWING\n",
    "                               ) AS avg_num_trips\n",
    "                      FROM trips_by_day\n",
    "                      \"\"\"\n",
    "\n",
    "# \ttrip_date\tavg_num_trips\n",
    "# 0\t2016-01-01\t80461.937500\n",
    "# 1\t2016-01-02\t80150.647059\n",
    "# 2\t2016-01-03\t79419.611111\n",
    "# 3\t2016-01-04\t79810.421053\n",
    "# 4\t2016-01-05\t80293.900000"
   ]
  },
  {
   "cell_type": "markdown",
   "metadata": {},
   "source": [
    "## 8.2.2.2. Can you separate and order trips by community area?"
   ]
  },
  {
   "cell_type": "code",
   "execution_count": null,
   "metadata": {},
   "outputs": [],
   "source": [
    "# The query below returns a DataFrame with three columns from the table: \n",
    "# `pickup_community_area`, `trip_start_timestamp`, and `trip_end_timestamp`.  \n",
    "# Amend the query to return an additional column called `trip_number` \n",
    "# which shows the order in which the trips were taken from their \n",
    "# respective community areas.  So, the first trip of the day originating\n",
    "# from community area 1 should receive a value of 1; the second trip of \n",
    "# the day from the same area should receive a value of 2.  Likewise, the \n",
    "# first trip of the day from community area 2 should receive a value of 1, \n",
    "# and so on.\n",
    "# Note that there are many numbering functions that can be used to solve \n",
    "# this problem (depending on how you want to deal with trips that started \n",
    "# at the same time from the same community area); to answer this question, \n",
    "# please use the **RANK()** function."
   ]
  },
  {
   "cell_type": "code",
   "execution_count": null,
   "metadata": {},
   "outputs": [],
   "source": [
    "trip_number_query = \"\"\"\n",
    "                    SELECT pickup_community_area,\n",
    "                        trip_start_timestamp,\n",
    "                        trip_end_timestamp,\n",
    "                        RANK()\n",
    "                            OVER (\n",
    "                                  PARTITION BY pickup_community_area\n",
    "                                  ORDER BY trip_start_timestamp\n",
    "                                 ) AS trip_number\n",
    "                    FROM `bigquery-public-data.chicago_taxi_trips.taxi_trips`\n",
    "                    WHERE DATE(trip_start_timestamp) = '2017-05-01' \n",
    "                    \"\"\"\n",
    "\n",
    "trip_number_result = client.query(trip_number_query).result().to_dataframe()\n"
   ]
  },
  {
   "cell_type": "markdown",
   "metadata": {},
   "source": [
    "## 8.2.2.3. How much time elapses between trips?"
   ]
  },
  {
   "cell_type": "code",
   "execution_count": null,
   "metadata": {},
   "outputs": [],
   "source": [
    "# The (partial) query in the code cell below shows, for each trip in the \n",
    "# selected time frame, the corresponding taxi_id, trip_start_timestamp, \n",
    "# and trip_end_timestamp.\n",
    "# Your task in this exercise is to edit the query to include an additional \n",
    "# prev_break column that shows the length of the break (in minutes) that \n",
    "# the driver had before each trip started (this corresponds to the time \n",
    "# between trip_start_timestamp of the current trip and trip_end_timestamp \n",
    "# of the previous trip). Partition the calculation by taxi_id, and order \n",
    "# the results within each partition by trip_start_timestamp."
   ]
  },
  {
   "cell_type": "code",
   "execution_count": null,
   "metadata": {},
   "outputs": [],
   "source": [
    "# Fill in the blanks below\n",
    "reak_time_query = \"\"\"\n",
    "                   SELECT taxi_id,\n",
    "                       trip_start_timestamp,\n",
    "                       trip_end_timestamp,\n",
    "                       TIMESTAMP_DIFF(\n",
    "                           trip_start_timestamp, \n",
    "                           LAG(trip_end_timestamp, 1) OVER (PARTITION BY taxi_id ORDER BY trip_start_timestamp), \n",
    "                           MINUTE) as prev_break\n",
    "                   FROM `bigquery-public-data.chicago_taxi_trips.taxi_trips`\n",
    "                   WHERE DATE(trip_start_timestamp) = '2017-05-01' \n",
    "                   \"\"\"\n",
    "\n",
    "# break_time_result = client.query(break_time_query).result().to_dataframe()\n"
   ]
  },
  {
   "cell_type": "code",
   "execution_count": null,
   "metadata": {},
   "outputs": [],
   "source": []
  }
 ],
 "metadata": {
  "kernelspec": {
   "display_name": "Python 3",
   "language": "python",
   "name": "python3"
  },
  "language_info": {
   "codemirror_mode": {
    "name": "ipython",
    "version": 3
   },
   "file_extension": ".py",
   "mimetype": "text/x-python",
   "name": "python",
   "nbconvert_exporter": "python",
   "pygments_lexer": "ipython3",
   "version": "3.8.5"
  }
 },
 "nbformat": 4,
 "nbformat_minor": 4
}
