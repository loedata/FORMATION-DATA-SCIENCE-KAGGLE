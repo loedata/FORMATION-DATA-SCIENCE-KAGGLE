{
 "cells": [
  {
   "cell_type": "markdown",
   "metadata": {},
   "source": [
    "# 13. INTRODUCTION DEEP LEARNING"
   ]
  },
  {
   "cell_type": "markdown",
   "metadata": {},
   "source": [
    "# 13.4. Overfitting and Underfitting"
   ]
  },
  {
   "cell_type": "markdown",
   "metadata": {},
   "source": [
    "# 13.4.1. COURS"
   ]
  },
  {
   "cell_type": "markdown",
   "metadata": {},
   "source": [
    "# Example - Train a Model with Early Stopping"
   ]
  },
  {
   "cell_type": "code",
   "execution_count": 1,
   "metadata": {},
   "outputs": [],
   "source": [
    "# Chemin des sources\n",
    "import os\n",
    "os.chdir('C:/Users/PC Maison/4-KAGGLE/KAGGLE_DEV/KAGGLE_COURS_13-INTRO_DEEP_LEARNING/input')"
   ]
  },
  {
   "cell_type": "code",
   "execution_count": 2,
   "metadata": {},
   "outputs": [
    {
     "data": {
      "text/html": [
       "<div>\n",
       "<style scoped>\n",
       "    .dataframe tbody tr th:only-of-type {\n",
       "        vertical-align: middle;\n",
       "    }\n",
       "\n",
       "    .dataframe tbody tr th {\n",
       "        vertical-align: top;\n",
       "    }\n",
       "\n",
       "    .dataframe thead th {\n",
       "        text-align: right;\n",
       "    }\n",
       "</style>\n",
       "<table border=\"1\" class=\"dataframe\">\n",
       "  <thead>\n",
       "    <tr style=\"text-align: right;\">\n",
       "      <th></th>\n",
       "      <th>fixed acidity</th>\n",
       "      <th>volatile acidity</th>\n",
       "      <th>citric acid</th>\n",
       "      <th>residual sugar</th>\n",
       "      <th>chlorides</th>\n",
       "      <th>free sulfur dioxide</th>\n",
       "      <th>total sulfur dioxide</th>\n",
       "      <th>density</th>\n",
       "      <th>pH</th>\n",
       "      <th>sulphates</th>\n",
       "      <th>alcohol</th>\n",
       "      <th>quality</th>\n",
       "    </tr>\n",
       "  </thead>\n",
       "  <tbody>\n",
       "    <tr>\n",
       "      <th>1109</th>\n",
       "      <td>10.8</td>\n",
       "      <td>0.470</td>\n",
       "      <td>0.43</td>\n",
       "      <td>2.10</td>\n",
       "      <td>0.171</td>\n",
       "      <td>27.0</td>\n",
       "      <td>66.0</td>\n",
       "      <td>0.99820</td>\n",
       "      <td>3.17</td>\n",
       "      <td>0.76</td>\n",
       "      <td>10.8</td>\n",
       "      <td>6</td>\n",
       "    </tr>\n",
       "    <tr>\n",
       "      <th>1032</th>\n",
       "      <td>8.1</td>\n",
       "      <td>0.820</td>\n",
       "      <td>0.00</td>\n",
       "      <td>4.10</td>\n",
       "      <td>0.095</td>\n",
       "      <td>5.0</td>\n",
       "      <td>14.0</td>\n",
       "      <td>0.99854</td>\n",
       "      <td>3.36</td>\n",
       "      <td>0.53</td>\n",
       "      <td>9.6</td>\n",
       "      <td>5</td>\n",
       "    </tr>\n",
       "    <tr>\n",
       "      <th>1002</th>\n",
       "      <td>9.1</td>\n",
       "      <td>0.290</td>\n",
       "      <td>0.33</td>\n",
       "      <td>2.05</td>\n",
       "      <td>0.063</td>\n",
       "      <td>13.0</td>\n",
       "      <td>27.0</td>\n",
       "      <td>0.99516</td>\n",
       "      <td>3.26</td>\n",
       "      <td>0.84</td>\n",
       "      <td>11.7</td>\n",
       "      <td>7</td>\n",
       "    </tr>\n",
       "    <tr>\n",
       "      <th>487</th>\n",
       "      <td>10.2</td>\n",
       "      <td>0.645</td>\n",
       "      <td>0.36</td>\n",
       "      <td>1.80</td>\n",
       "      <td>0.053</td>\n",
       "      <td>5.0</td>\n",
       "      <td>14.0</td>\n",
       "      <td>0.99820</td>\n",
       "      <td>3.17</td>\n",
       "      <td>0.42</td>\n",
       "      <td>10.0</td>\n",
       "      <td>6</td>\n",
       "    </tr>\n",
       "  </tbody>\n",
       "</table>\n",
       "</div>"
      ],
      "text/plain": [
       "      fixed acidity  volatile acidity  citric acid  residual sugar  chlorides  \\\n",
       "1109           10.8             0.470         0.43            2.10      0.171   \n",
       "1032            8.1             0.820         0.00            4.10      0.095   \n",
       "1002            9.1             0.290         0.33            2.05      0.063   \n",
       "487            10.2             0.645         0.36            1.80      0.053   \n",
       "\n",
       "      free sulfur dioxide  total sulfur dioxide  density    pH  sulphates  \\\n",
       "1109                 27.0                  66.0  0.99820  3.17       0.76   \n",
       "1032                  5.0                  14.0  0.99854  3.36       0.53   \n",
       "1002                 13.0                  27.0  0.99516  3.26       0.84   \n",
       "487                   5.0                  14.0  0.99820  3.17       0.42   \n",
       "\n",
       "      alcohol  quality  \n",
       "1109     10.8        6  \n",
       "1032      9.6        5  \n",
       "1002     11.7        7  \n",
       "487      10.0        6  "
      ]
     },
     "metadata": {},
     "output_type": "display_data"
    }
   ],
   "source": [
    "import pandas as pd\n",
    "from IPython.display import display\n",
    "import matplotlib.pyplot as plt\n",
    "\n",
    "red_wine = pd.read_csv('red-wine.csv')\n",
    "\n",
    "# Create training and validation splits\n",
    "df_train = red_wine.sample(frac=0.7, random_state=0)\n",
    "df_valid = red_wine.drop(df_train.index)\n",
    "display(df_train.head(4))\n",
    "\n",
    "# Scale to [0, 1]\n",
    "max_ = df_train.max(axis=0)\n",
    "min_ = df_train.min(axis=0)\n",
    "df_train = (df_train - min_) / (max_ - min_)\n",
    "df_valid = (df_valid - min_) / (max_ - min_)\n",
    "\n",
    "# Split features and target\n",
    "X_train = df_train.drop('quality', axis=1)\n",
    "X_valid = df_valid.drop('quality', axis=1)\n",
    "y_train = df_train['quality']\n",
    "y_valid = df_valid['quality']"
   ]
  },
  {
   "cell_type": "markdown",
   "metadata": {},
   "source": [
    "# Capacité"
   ]
  },
  {
   "cell_type": "code",
   "execution_count": 3,
   "metadata": {},
   "outputs": [],
   "source": [
    "# Augmentons maintenant la capacité du réseau. \n",
    "# Nous opterons pour un réseau assez important, mais comptons sur le rappel \n",
    "# pour arrêter la formation dès que la perte de validation montrera des signes\n",
    "# d'augmentation.\n",
    "from tensorflow import keras\n",
    "from tensorflow.keras import layers, callbacks\n",
    "\n",
    "early_stopping = callbacks.EarlyStopping(\n",
    "    min_delta=0.001, # minimium amount of change to count as an improvement\n",
    "    patience=20, # how many epochs to wait before stopping\n",
    "    restore_best_weights=True,\n",
    ")\n",
    "\n",
    "model = keras.Sequential([\n",
    "    layers.Dense(512, activation='relu', input_shape=[11]),\n",
    "    layers.Dense(512, activation='relu'),\n",
    "    layers.Dense(512, activation='relu'),\n",
    "    layers.Dense(1),\n",
    "])\n",
    "model.compile(\n",
    "    optimizer='adam',\n",
    "    loss='mae',\n",
    ")"
   ]
  },
  {
   "cell_type": "code",
   "execution_count": 4,
   "metadata": {},
   "outputs": [
    {
     "name": "stdout",
     "output_type": "stream",
     "text": [
      "Minimum validation loss: 0.09234035760164261\n"
     ]
    },
    {
     "data": {
      "image/png": "[encoded data removed]",
      "text/plain": [
       "<Figure size 432x288 with 1 Axes>"
      ]
     },
     "metadata": {
      "needs_background": "light"
     },
     "output_type": "display_data"
    }
   ],
   "source": [
    "# Entrainement du modèle\n",
    "history = model.fit(\n",
    "    X_train, y_train,\n",
    "    validation_data=(X_valid, y_valid),\n",
    "    batch_size=256,\n",
    "    epochs=500,\n",
    "    callbacks=[early_stopping], # put your callbacks in a list\n",
    "    verbose=0,  # turn off training log\n",
    ")\n",
    "\n",
    "history_df = pd.DataFrame(history.history)\n",
    "history_df.loc[:, ['loss', 'val_loss']].plot();\n",
    "print(\"Minimum validation loss: {}\".format(history_df['val_loss'].min()))\n",
    "plt.show()"
   ]
  },
  {
   "cell_type": "markdown",
   "metadata": {},
   "source": [
    "# 13.4.2. EXERCICES"
   ]
  },
  {
   "cell_type": "code",
   "execution_count": 5,
   "metadata": {},
   "outputs": [],
   "source": [
    "# Setup plotting\n",
    "import matplotlib.pyplot as plt\n",
    "plt.style.use('seaborn-whitegrid')\n",
    "# Set Matplotlib defaults\n",
    "plt.rc('figure', autolayout=True)\n",
    "plt.rc('axes', labelweight='bold', labelsize='large',\n",
    "       titleweight='bold', titlesize=18, titlepad=10)\n",
    "plt.rc('animation', html='html5')"
   ]
  },
  {
   "cell_type": "code",
   "execution_count": 6,
   "metadata": {},
   "outputs": [],
   "source": [
    "import pandas as pd\n",
    "from sklearn.preprocessing import StandardScaler, OneHotEncoder\n",
    "from sklearn.compose import make_column_transformer\n",
    "from sklearn.model_selection import GroupShuffleSplit\n",
    "\n",
    "from tensorflow import keras\n",
    "from tensorflow.keras import layers\n",
    "from tensorflow.keras import callbacks"
   ]
  },
  {
   "cell_type": "code",
   "execution_count": 7,
   "metadata": {},
   "outputs": [],
   "source": [
    "spotify = pd.read_csv('spotify.csv')"
   ]
  },
  {
   "cell_type": "code",
   "execution_count": 8,
   "metadata": {},
   "outputs": [],
   "source": [
    "X = spotify.copy().dropna()"
   ]
  },
  {
   "cell_type": "code",
   "execution_count": 9,
   "metadata": {},
   "outputs": [],
   "source": [
    "y = X.pop('track_popularity')"
   ]
  },
  {
   "cell_type": "code",
   "execution_count": 10,
   "metadata": {},
   "outputs": [],
   "source": [
    "artists = X['track_artist']"
   ]
  },
  {
   "cell_type": "code",
   "execution_count": 11,
   "metadata": {},
   "outputs": [],
   "source": [
    "features_num = ['danceability', 'energy', 'key', 'loudness', 'mode',\n",
    "                'speechiness', 'acousticness', 'instrumentalness',\n",
    "                'liveness', 'valence', 'tempo', 'duration_ms']\n",
    "features_cat = ['playlist_genre']"
   ]
  },
  {
   "cell_type": "code",
   "execution_count": 12,
   "metadata": {},
   "outputs": [],
   "source": [
    "preprocessor = make_column_transformer(\n",
    "    (StandardScaler(), features_num),\n",
    "    (OneHotEncoder(), features_cat),\n",
    ")"
   ]
  },
  {
   "cell_type": "code",
   "execution_count": 13,
   "metadata": {},
   "outputs": [],
   "source": [
    "# We'll do a \"grouped\" split to keep all of an artist's songs in one\n",
    "# split or the other. This is to help prevent signal leakage.\n",
    "def group_split(X, y, group, train_size=0.75):\n",
    "    splitter = GroupShuffleSplit(train_size=train_size)\n",
    "    train, test = next(splitter.split(X, y, groups=group))\n",
    "    return (X.iloc[train], X.iloc[test], y.iloc[train], y.iloc[test])"
   ]
  },
  {
   "cell_type": "code",
   "execution_count": 14,
   "metadata": {},
   "outputs": [],
   "source": [
    "X_train, X_valid, y_train, y_valid = group_split(X, y, artists)"
   ]
  },
  {
   "cell_type": "code",
   "execution_count": 15,
   "metadata": {},
   "outputs": [],
   "source": [
    "X_train = preprocessor.fit_transform(X_train)\n",
    "X_valid = preprocessor.transform(X_valid)\n",
    "y_train = y_train / 100 # popularity is on a scale 0-100, so this rescales to 0-1.\n",
    "y_valid = y_valid / 100"
   ]
  },
  {
   "cell_type": "code",
   "execution_count": 16,
   "metadata": {},
   "outputs": [
    {
     "name": "stdout",
     "output_type": "stream",
     "text": [
      "Input shape: [18]\n"
     ]
    }
   ],
   "source": [
    "input_shape = [X_train.shape[1]]\n",
    "print(\"Input shape: {}\".format(input_shape))"
   ]
  },
  {
   "cell_type": "code",
   "execution_count": 19,
   "metadata": {},
   "outputs": [],
   "source": [
    "model = keras.Sequential([\n",
    "    layers.Dense(1, input_shape=input_shape),\n",
    "])"
   ]
  },
  {
   "cell_type": "code",
   "execution_count": 20,
   "metadata": {},
   "outputs": [],
   "source": [
    "model.compile(\n",
    "    optimizer='adam',\n",
    "    loss='mae',\n",
    ")"
   ]
  },
  {
   "cell_type": "code",
   "execution_count": 18,
   "metadata": {},
   "outputs": [
    {
     "name": "stdout",
     "output_type": "stream",
     "text": [
      "Minimum Validation Loss: 0.1966\n"
     ]
    },
    {
     "data": {
      "image/png": "[encoded data removed]",
      "text/plain": [
       "<Figure size 432x288 with 1 Axes>"
      ]
     },
     "metadata": {},
     "output_type": "display_data"
    }
   ],
   "source": [
    "history = model.fit(\n",
    "    X_train, y_train,\n",
    "    validation_data=(X_valid, y_valid),\n",
    "    batch_size=512,\n",
    "    epochs=50,\n",
    "    verbose=0, # suppress output since we'll plot the curves\n",
    ")\n",
    "history_df = pd.DataFrame(history.history)\n",
    "history_df.loc[0:, ['loss', 'val_loss']].plot()\n",
    "print(\"Minimum Validation Loss: {:0.4f}\".format(history_df['val_loss'].min()));"
   ]
  },
  {
   "cell_type": "code",
   "execution_count": 21,
   "metadata": {},
   "outputs": [
    {
     "name": "stdout",
     "output_type": "stream",
     "text": [
      "Minimum Validation Loss: 0.1966\n"
     ]
    },
    {
     "data": {
      "image/png": "[encoded data removed]",
      "text/plain": [
       "<Figure size 432x288 with 1 Axes>"
      ]
     },
     "metadata": {},
     "output_type": "display_data"
    }
   ],
   "source": [
    "# Start the plot at epoch 10\n",
    "history_df.loc[10:, ['loss', 'val_loss']].plot()\n",
    "print(\"Minimum Validation Loss: {:0.4f}\".format(history_df['val_loss'].min()));"
   ]
  },
  {
   "cell_type": "markdown",
   "metadata": {},
   "source": [
    "# 1) Evaluate Baseline"
   ]
  },
  {
   "cell_type": "code",
   "execution_count": 22,
   "metadata": {},
   "outputs": [],
   "source": [
    "# L'écart entre ces courbes est assez faible et la perte de validation\n",
    "# n'augmente jamais, il est donc plus probable que le réseau soit sous-équipé \n",
    "# que suréquipé. \n",
    "# Il serait intéressant d'expérimenter avec une plus grande capacité pour voir\n",
    "# si c'est le cas."
   ]
  },
  {
   "cell_type": "code",
   "execution_count": 23,
   "metadata": {},
   "outputs": [
    {
     "name": "stdout",
     "output_type": "stream",
     "text": [
      "Epoch 1/50\n",
      "49/49 [==============================] - 0s 3ms/step - loss: 0.2351 - val_loss: 0.2094\n",
      "Epoch 2/50\n",
      "49/49 [==============================] - 0s 1ms/step - loss: 0.2025 - val_loss: 0.2041\n",
      "Epoch 3/50\n",
      "49/49 [==============================] - 0s 1ms/step - loss: 0.1975 - val_loss: 0.1999\n",
      "Epoch 4/50\n",
      "49/49 [==============================] - 0s 1ms/step - loss: 0.1937 - val_loss: 0.1985\n",
      "Epoch 5/50\n",
      "49/49 [==============================] - 0s 1ms/step - loss: 0.1915 - val_loss: 0.1973\n",
      "Epoch 6/50\n",
      "49/49 [==============================] - 0s 1ms/step - loss: 0.1895 - val_loss: 0.1970\n",
      "Epoch 7/50\n",
      "49/49 [==============================] - 0s 1ms/step - loss: 0.1890 - val_loss: 0.1982\n",
      "Epoch 8/50\n",
      "49/49 [==============================] - 0s 1ms/step - loss: 0.1877 - val_loss: 0.1971\n",
      "Epoch 9/50\n",
      "49/49 [==============================] - 0s 1ms/step - loss: 0.1863 - val_loss: 0.1963\n",
      "Epoch 10/50\n",
      "49/49 [==============================] - 0s 1ms/step - loss: 0.1854 - val_loss: 0.1963\n",
      "Epoch 11/50\n",
      "49/49 [==============================] - 0s 1ms/step - loss: 0.1846 - val_loss: 0.1962\n",
      "Epoch 12/50\n",
      "49/49 [==============================] - 0s 1ms/step - loss: 0.1836 - val_loss: 0.1954\n",
      "Epoch 13/50\n",
      "49/49 [==============================] - 0s 1ms/step - loss: 0.1834 - val_loss: 0.1972\n",
      "Epoch 14/50\n",
      "49/49 [==============================] - 0s 1ms/step - loss: 0.1821 - val_loss: 0.1960\n",
      "Epoch 15/50\n",
      "49/49 [==============================] - 0s 1ms/step - loss: 0.1811 - val_loss: 0.1975\n",
      "Epoch 16/50\n",
      "49/49 [==============================] - 0s 1ms/step - loss: 0.1810 - val_loss: 0.1963\n",
      "Epoch 17/50\n",
      "49/49 [==============================] - 0s 1ms/step - loss: 0.1804 - val_loss: 0.1965\n",
      "Epoch 18/50\n",
      "49/49 [==============================] - 0s 1ms/step - loss: 0.1797 - val_loss: 0.1963\n",
      "Epoch 19/50\n",
      "49/49 [==============================] - 0s 1ms/step - loss: 0.1789 - val_loss: 0.1986\n",
      "Epoch 20/50\n",
      "49/49 [==============================] - 0s 1ms/step - loss: 0.1790 - val_loss: 0.1991\n",
      "Epoch 21/50\n",
      "49/49 [==============================] - 0s 1ms/step - loss: 0.1782 - val_loss: 0.1967\n",
      "Epoch 22/50\n",
      "49/49 [==============================] - 0s 1ms/step - loss: 0.1772 - val_loss: 0.1976\n",
      "Epoch 23/50\n",
      "49/49 [==============================] - 0s 1ms/step - loss: 0.1766 - val_loss: 0.1983\n",
      "Epoch 24/50\n",
      "49/49 [==============================] - 0s 1ms/step - loss: 0.1762 - val_loss: 0.1976\n",
      "Epoch 25/50\n",
      "49/49 [==============================] - 0s 1ms/step - loss: 0.1759 - val_loss: 0.2005\n",
      "Epoch 26/50\n",
      "49/49 [==============================] - 0s 1ms/step - loss: 0.1757 - val_loss: 0.1988\n",
      "Epoch 27/50\n",
      "49/49 [==============================] - 0s 1ms/step - loss: 0.1749 - val_loss: 0.1975\n",
      "Epoch 28/50\n",
      "49/49 [==============================] - 0s 1ms/step - loss: 0.1744 - val_loss: 0.1980\n",
      "Epoch 29/50\n",
      "49/49 [==============================] - 0s 1ms/step - loss: 0.1736 - val_loss: 0.2002\n",
      "Epoch 30/50\n",
      "49/49 [==============================] - 0s 1ms/step - loss: 0.1732 - val_loss: 0.1998\n",
      "Epoch 31/50\n",
      "49/49 [==============================] - 0s 1ms/step - loss: 0.1724 - val_loss: 0.1999\n",
      "Epoch 32/50\n",
      "49/49 [==============================] - 0s 1ms/step - loss: 0.1716 - val_loss: 0.2011\n",
      "Epoch 33/50\n",
      "49/49 [==============================] - 0s 1ms/step - loss: 0.1718 - val_loss: 0.1989\n",
      "Epoch 34/50\n",
      "49/49 [==============================] - 0s 1ms/step - loss: 0.1712 - val_loss: 0.1995\n",
      "Epoch 35/50\n",
      "49/49 [==============================] - 0s 1ms/step - loss: 0.1712 - val_loss: 0.2021\n",
      "Epoch 36/50\n",
      "49/49 [==============================] - 0s 1ms/step - loss: 0.1704 - val_loss: 0.2004\n",
      "Epoch 37/50\n",
      "49/49 [==============================] - 0s 1ms/step - loss: 0.1691 - val_loss: 0.1990\n",
      "Epoch 38/50\n",
      "49/49 [==============================] - 0s 1ms/step - loss: 0.1691 - val_loss: 0.2005\n",
      "Epoch 39/50\n",
      "49/49 [==============================] - 0s 1ms/step - loss: 0.1693 - val_loss: 0.2028\n",
      "Epoch 40/50\n",
      "49/49 [==============================] - 0s 1ms/step - loss: 0.1682 - val_loss: 0.2024\n",
      "Epoch 41/50\n",
      "49/49 [==============================] - 0s 1ms/step - loss: 0.1682 - val_loss: 0.2005\n",
      "Epoch 42/50\n",
      "49/49 [==============================] - 0s 1ms/step - loss: 0.1680 - val_loss: 0.2035\n",
      "Epoch 43/50\n",
      "49/49 [==============================] - 0s 1ms/step - loss: 0.1669 - val_loss: 0.2019\n",
      "Epoch 44/50\n",
      "49/49 [==============================] - 0s 1ms/step - loss: 0.1666 - val_loss: 0.2037\n",
      "Epoch 45/50\n",
      "49/49 [==============================] - 0s 1ms/step - loss: 0.1672 - val_loss: 0.2023\n",
      "Epoch 46/50\n",
      "49/49 [==============================] - 0s 1ms/step - loss: 0.1663 - val_loss: 0.2033\n",
      "Epoch 47/50\n",
      "49/49 [==============================] - 0s 1ms/step - loss: 0.1654 - val_loss: 0.2034\n",
      "Epoch 48/50\n",
      "49/49 [==============================] - 0s 1ms/step - loss: 0.1654 - val_loss: 0.2035\n",
      "Epoch 49/50\n",
      "49/49 [==============================] - 0s 1ms/step - loss: 0.1650 - val_loss: 0.2023\n",
      "Epoch 50/50\n",
      "49/49 [==============================] - 0s 1ms/step - loss: 0.1646 - val_loss: 0.2029\n",
      "Minimum Validation Loss: 0.1954\n"
     ]
    },
    {
     "data": {
      "image/png": "[encoded data removed]",
      "text/plain": [
       "<Figure size 432x288 with 1 Axes>"
      ]
     },
     "metadata": {},
     "output_type": "display_data"
    }
   ],
   "source": [
    "model = keras.Sequential([\n",
    "    layers.Dense(128, activation='relu', input_shape=input_shape),\n",
    "    layers.Dense(64, activation='relu'),\n",
    "    layers.Dense(1)\n",
    "])\n",
    "model.compile(\n",
    "    optimizer='adam',\n",
    "    loss='mae',\n",
    ")\n",
    "history = model.fit(\n",
    "    X_train, y_train,\n",
    "    validation_data=(X_valid, y_valid),\n",
    "    batch_size=512,\n",
    "    epochs=50,\n",
    ")\n",
    "history_df = pd.DataFrame(history.history)\n",
    "history_df.loc[:, ['loss', 'val_loss']].plot()\n",
    "print(\"Minimum Validation Loss: {:0.4f}\".format(history_df['val_loss'].min()));"
   ]
  },
  {
   "cell_type": "markdown",
   "metadata": {},
   "source": [
    "# 2) Add Capacity"
   ]
  },
  {
   "cell_type": "code",
   "execution_count": null,
   "metadata": {},
   "outputs": [],
   "source": [
    "# Maintenant, la perte de validation commence à augmenter très tôt, tandis que \n",
    "# la perte de formation continue à diminuer. Cela indique que le réseau a \n",
    "# commencé à se surajuster. À ce stade, il faudrait essayer quelque chose pour \n",
    "# l'empêcher, soit en réduisant le nombre d'unités, soit par une méthode comme \n",
    "# l'arrêt anticipé. (Nous en verrons une autre dans la prochaine leçon !)"
   ]
  },
  {
   "cell_type": "markdown",
   "metadata": {},
   "source": [
    "# 3) Define Early Stopping Callback"
   ]
  },
  {
   "cell_type": "code",
   "execution_count": 24,
   "metadata": {},
   "outputs": [],
   "source": [
    "from tensorflow.keras.callbacks import EarlyStopping\n",
    "\n",
    "early_stopping = EarlyStopping(\n",
    "    min_delta=0.001, # minimium amount of change to count as an improvement\n",
    "    patience=5, # how many epochs to wait before stopping\n",
    "    restore_best_weights=True,\n",
    ")"
   ]
  },
  {
   "cell_type": "code",
   "execution_count": 25,
   "metadata": {},
   "outputs": [
    {
     "name": "stdout",
     "output_type": "stream",
     "text": [
      "Epoch 1/50\n",
      "49/49 [==============================] - 0s 2ms/step - loss: 0.2697 - val_loss: 0.2087\n",
      "Epoch 2/50\n",
      "49/49 [==============================] - 0s 1ms/step - loss: 0.2033 - val_loss: 0.2021\n",
      "Epoch 3/50\n",
      "49/49 [==============================] - 0s 1ms/step - loss: 0.1982 - val_loss: 0.2008\n",
      "Epoch 4/50\n",
      "49/49 [==============================] - 0s 1ms/step - loss: 0.1949 - val_loss: 0.1989\n",
      "Epoch 5/50\n",
      "49/49 [==============================] - 0s 1ms/step - loss: 0.1924 - val_loss: 0.1970\n",
      "Epoch 6/50\n",
      "49/49 [==============================] - 0s 1ms/step - loss: 0.1911 - val_loss: 0.1970\n",
      "Epoch 7/50\n",
      "49/49 [==============================] - 0s 1ms/step - loss: 0.1893 - val_loss: 0.1963\n",
      "Epoch 8/50\n",
      "49/49 [==============================] - 0s 1ms/step - loss: 0.1877 - val_loss: 0.1963\n",
      "Epoch 9/50\n",
      "49/49 [==============================] - 0s 1ms/step - loss: 0.1870 - val_loss: 0.1961\n",
      "Epoch 10/50\n",
      "49/49 [==============================] - 0s 1ms/step - loss: 0.1861 - val_loss: 0.1962\n",
      "Minimum Validation Loss: 0.1961\n"
     ]
    },
    {
     "data": {
      "image/png": "[encoded data removed]",
      "text/plain": [
       "<Figure size 432x288 with 1 Axes>"
      ]
     },
     "metadata": {},
     "output_type": "display_data"
    }
   ],
   "source": [
    "model = keras.Sequential([\n",
    "    layers.Dense(128, activation='relu', input_shape=input_shape),\n",
    "    layers.Dense(64, activation='relu'),    \n",
    "    layers.Dense(1)\n",
    "])\n",
    "model.compile(\n",
    "    optimizer='adam',\n",
    "    loss='mae',\n",
    ")\n",
    "history = model.fit(\n",
    "    X_train, y_train,\n",
    "    validation_data=(X_valid, y_valid),\n",
    "    batch_size=512,\n",
    "    epochs=50,\n",
    "    callbacks=[early_stopping]\n",
    ")\n",
    "history_df = pd.DataFrame(history.history)\n",
    "history_df.loc[:, ['loss', 'val_loss']].plot()\n",
    "print(\"Minimum Validation Loss: {:0.4f}\".format(history_df['val_loss'].min()));"
   ]
  },
  {
   "cell_type": "markdown",
   "metadata": {},
   "source": [
    "# 4) Train and Interpret"
   ]
  },
  {
   "cell_type": "code",
   "execution_count": null,
   "metadata": {},
   "outputs": [],
   "source": [
    "# Le rappel d'arrêt anticipé a effectivement mis fin à la formation une fois\n",
    "# que le réseau a commencé à surcharger. De plus, en incluant les \n",
    "# restore_best_weights, nous pouvons toujours conserver le modèle où la perte \n",
    "# de validation était la plus faible."
   ]
  },
  {
   "cell_type": "code",
   "execution_count": null,
   "metadata": {},
   "outputs": [],
   "source": []
  }
 ],
 "metadata": {
  "kernelspec": {
   "display_name": "Python 3",
   "language": "python",
   "name": "python3"
  },
  "language_info": {
   "codemirror_mode": {
    "name": "ipython",
    "version": 3
   },
   "file_extension": ".py",
   "mimetype": "text/x-python",
   "name": "python",
   "nbconvert_exporter": "python",
   "pygments_lexer": "ipython3",
   "version": "3.8.5"
  }
 },
 "nbformat": 4,
 "nbformat_minor": 4
}
