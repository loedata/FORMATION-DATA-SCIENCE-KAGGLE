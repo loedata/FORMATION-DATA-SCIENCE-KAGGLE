{
 "cells": [
  {
   "cell_type": "markdown",
   "metadata": {},
   "source": [
    "# 14. COMPUTER VISION"
   ]
  },
  {
   "cell_type": "markdown",
   "metadata": {},
   "source": [
    "# 14.1. The Convolutional Classifier"
   ]
  },
  {
   "cell_type": "markdown",
   "metadata": {},
   "source": [
    "# 14.1.1. COURS"
   ]
  },
  {
   "cell_type": "code",
   "execution_count": 1,
   "metadata": {},
   "outputs": [],
   "source": [
    "# Chemin des sources\n",
    "import os\n",
    "os.chdir('C:/Users/PC Maison/4-KAGGLE/KAGGLE_DEV/KAGGLE_COURS_14-COMPUTER_VISION/input')"
   ]
  },
  {
   "cell_type": "code",
   "execution_count": 2,
   "metadata": {},
   "outputs": [],
   "source": [
    "# Imports\n",
    "import os, warnings\n",
    "import matplotlib.pyplot as plt\n",
    "from matplotlib import gridspec\n",
    "\n",
    "import numpy as np\n",
    "import tensorflow as tf\n",
    "from tensorflow.keras.preprocessing import image_dataset_from_directory"
   ]
  },
  {
   "cell_type": "code",
   "execution_count": 3,
   "metadata": {},
   "outputs": [],
   "source": [
    "# Reproducability\n",
    "def set_seed(seed=31415):\n",
    "    np.random.seed(seed)\n",
    "    tf.random.set_seed(seed)\n",
    "    os.environ['PYTHONHASHSEED'] = str(seed)\n",
    "    os.environ['TF_DETERMINISTIC_OPS'] = '1'\n",
    "set_seed(31415)"
   ]
  },
  {
   "cell_type": "code",
   "execution_count": 4,
   "metadata": {},
   "outputs": [],
   "source": [
    "# Set Matplotlib defaults\n",
    "plt.rc('figure', autolayout=True)\n",
    "plt.rc('axes', labelweight='bold', labelsize='large',\n",
    "       titleweight='bold', titlesize=18, titlepad=10)\n",
    "plt.rc('image', cmap='magma')\n",
    "warnings.filterwarnings(\"ignore\") # to clean up output cells"
   ]
  },
  {
   "cell_type": "markdown",
   "metadata": {},
   "source": [
    "# Example - Train a Convnet Classifier"
   ]
  },
  {
   "cell_type": "code",
   "execution_count": 9,
   "metadata": {},
   "outputs": [],
   "source": [
    "# Step 1 - Load Data"
   ]
  },
  {
   "cell_type": "code",
   "execution_count": 6,
   "metadata": {},
   "outputs": [
    {
     "name": "stdout",
     "output_type": "stream",
     "text": [
      "Found 5117 files belonging to 2 classes.\n",
      "Found 5051 files belonging to 2 classes.\n"
     ]
    }
   ],
   "source": [
    "# Load training and validation sets\n",
    "ds_train_ = image_dataset_from_directory(\n",
    "    'train',\n",
    "    labels='inferred',\n",
    "    label_mode='binary',\n",
    "    image_size=[128, 128],\n",
    "    interpolation='nearest',\n",
    "    batch_size=64,\n",
    "    shuffle=True,\n",
    ")\n",
    "ds_valid_ = image_dataset_from_directory(\n",
    "    'valid',\n",
    "    labels='inferred',\n",
    "    label_mode='binary',\n",
    "    image_size=[128, 128],\n",
    "    interpolation='nearest',\n",
    "    batch_size=64,\n",
    "    shuffle=False,\n",
    ")"
   ]
  },
  {
   "cell_type": "code",
   "execution_count": 7,
   "metadata": {},
   "outputs": [],
   "source": [
    "# Data Pipeline\n",
    "def convert_to_float(image, label):\n",
    "    image = tf.image.convert_image_dtype(image, dtype=tf.float32)\n",
    "    return image, label\n",
    "\n",
    "AUTOTUNE = tf.data.experimental.AUTOTUNE\n",
    "\n",
    "ds_train = (\n",
    "    ds_train_\n",
    "    .map(convert_to_float)\n",
    "    .cache()\n",
    "    .prefetch(buffer_size=AUTOTUNE)\n",
    ")\n",
    "ds_valid = (\n",
    "    ds_valid_\n",
    "    .map(convert_to_float)\n",
    "    .cache()\n",
    "    .prefetch(buffer_size=AUTOTUNE)\n",
    ")"
   ]
  },
  {
   "cell_type": "code",
   "execution_count": 8,
   "metadata": {},
   "outputs": [],
   "source": [
    "import matplotlib.pyplot as plt"
   ]
  },
  {
   "cell_type": "markdown",
   "metadata": {},
   "source": [
    "# Step 2 - Define Pretrained Base"
   ]
  },
  {
   "cell_type": "code",
   "execution_count": 10,
   "metadata": {},
   "outputs": [],
   "source": [
    "# L'ensemble de données le plus couramment utilisé pour la préformation est \n",
    "# ImageNet, un vaste ensemble de données composé de nombreux types d'images \n",
    "# naturelles. Keras inclut dans son module d'applications une variété de modèles\n",
    "# préformés sur ImageNet. Le modèle préformé que nous utiliserons est appelé \n",
    "# VGG16."
   ]
  },
  {
   "cell_type": "code",
   "execution_count": 12,
   "metadata": {},
   "outputs": [
    {
     "name": "stdout",
     "output_type": "stream",
     "text": [
      "WARNING:tensorflow:No training configuration found in save file, so the model was *not* compiled. Compile it manually.\n"
     ]
    }
   ],
   "source": [
    "pretrained_base = tf.keras.models.load_model(\n",
    "    'cv-course-models/vgg16-pretrained-base',\n",
    ")\n",
    "pretrained_base.trainable = False"
   ]
  },
  {
   "cell_type": "markdown",
   "metadata": {},
   "source": [
    "# Step 3 - Attach Head"
   ]
  },
  {
   "cell_type": "code",
   "execution_count": 13,
   "metadata": {},
   "outputs": [],
   "source": [
    "# Ensuite, on attache la tête de classement. Pour cet exemple, nous utiliserons\n",
    "# une couche d'unités cachées (la première couche Dense) suivie d'une couche \n",
    "# pour transformer les sorties en un score de probabilité pour la classe 1, \n",
    "# Camion. La couche Aplatie transforme les sorties bidimensionnelles de la \n",
    "# base en entrées unidimensionnelles nécessaires à la tête."
   ]
  },
  {
   "cell_type": "code",
   "execution_count": 14,
   "metadata": {},
   "outputs": [],
   "source": [
    "import tensorflow.keras as keras\n",
    "import tensorflow.keras.layers as layers\n",
    "\n",
    "model = keras.Sequential([\n",
    "    pretrained_base,\n",
    "    layers.Flatten(),\n",
    "    layers.Dense(6, activation='relu'),\n",
    "    layers.Dense(1, activation='sigmoid'),\n",
    "])"
   ]
  },
  {
   "cell_type": "markdown",
   "metadata": {},
   "source": [
    "# Step 4 - Train"
   ]
  },
  {
   "cell_type": "code",
   "execution_count": 16,
   "metadata": {},
   "outputs": [],
   "source": [
    "# Enfin, formons le modèle. Comme il s'agit d'un problème à deux classes, nous\n",
    "# utiliserons les versions binaires de l'entropie croisée et de la précision. \n",
    "# L'optimiseur adam fonctionne généralement bien, donc nous le choisirons aussi"
   ]
  },
  {
   "cell_type": "code",
   "execution_count": 15,
   "metadata": {},
   "outputs": [],
   "source": [
    "model.compile(\n",
    "    optimizer='adam',\n",
    "    loss='binary_crossentropy',\n",
    "    metrics=['binary_accuracy'],\n",
    ")"
   ]
  },
  {
   "cell_type": "code",
   "execution_count": null,
   "metadata": {},
   "outputs": [
    {
     "name": "stdout",
     "output_type": "stream",
     "text": [
      "Epoch 1/30\n",
      "80/80 [==============================] - 227s 3s/step - loss: 0.4772 - binary_accuracy: 0.7745 - val_loss: 0.4190 - val_binary_accuracy: 0.8121\n",
      "Epoch 2/30\n",
      "80/80 [==============================] - 221s 3s/step - loss: 0.3509 - binary_accuracy: 0.8505 - val_loss: 0.3554 - val_binary_accuracy: 0.8515\n",
      "Epoch 3/30\n",
      "80/80 [==============================] - 223s 3s/step - loss: 0.3086 - binary_accuracy: 0.8712 - val_loss: 0.3254 - val_binary_accuracy: 0.8628\n",
      "Epoch 4/30\n",
      "55/80 [===================>..........] - ETA: 34s - loss: 0.2836 - binary_accuracy: 0.8807"
     ]
    }
   ],
   "source": [
    "history = model.fit(\n",
    "    ds_train,\n",
    "    validation_data=ds_valid,\n",
    "    epochs=30,\n",
    ")"
   ]
  },
  {
   "cell_type": "code",
   "execution_count": null,
   "metadata": {},
   "outputs": [],
   "source": [
    "# Lors de la formation d'un réseau neuronal, il est toujours bon d'examiner la \n",
    "# perte et les tracés métriques. L'objet histoire contient ces informations \n",
    "# dans un dictionnaire history.history. Nous pouvons utiliser des Pandas pour \n",
    "# convertir ce dictionnaire en une trame de données et le tracer avec une\n",
    "# méthode intégrée."
   ]
  },
  {
   "cell_type": "code",
   "execution_count": null,
   "metadata": {},
   "outputs": [],
   "source": [
    "import pandas as pd\n",
    "\n",
    "history_frame = pd.DataFrame(history.history)\n",
    "history_frame.loc[:, ['loss', 'val_loss']].plot()\n",
    "history_frame.loc[:, ['binary_accuracy', 'val_binary_accuracy']].plot()"
   ]
  },
  {
   "attachments": {
    "image.png": {
     "image/png": "[encoded data removed]"
    }
   },
   "cell_type": "markdown",
   "metadata": {},
   "source": [
    "![image.png](attachment:image.png)"
   ]
  },
  {
   "cell_type": "markdown",
   "metadata": {},
   "source": [
    "# 14.1.2. EXERCICES"
   ]
  },
  {
   "cell_type": "code",
   "execution_count": 1,
   "metadata": {},
   "outputs": [],
   "source": [
    "# Chemin des sources\n",
    "import os\n",
    "os.chdir('C:/Users/PC Maison/4-KAGGLE/KAGGLE_DEV/KAGGLE_COURS_14-COMPUTER_VISION/input')"
   ]
  },
  {
   "cell_type": "code",
   "execution_count": 2,
   "metadata": {},
   "outputs": [],
   "source": [
    "# Imports\n",
    "import os, warnings\n",
    "import matplotlib.pyplot as plt\n",
    "from matplotlib import gridspec\n",
    "\n",
    "import numpy as np\n",
    "import tensorflow as tf\n",
    "from tensorflow.keras.preprocessing import image_dataset_from_directory"
   ]
  },
  {
   "cell_type": "code",
   "execution_count": 3,
   "metadata": {},
   "outputs": [],
   "source": [
    "# Reproducability\n",
    "def set_seed(seed=31415):\n",
    "    np.random.seed(seed)\n",
    "    tf.random.set_seed(seed)\n",
    "    os.environ['PYTHONHASHSEED'] = str(seed)\n",
    "    os.environ['TF_DETERMINISTIC_OPS'] = '1'\n",
    "set_seed()"
   ]
  },
  {
   "cell_type": "code",
   "execution_count": 4,
   "metadata": {},
   "outputs": [],
   "source": [
    "# Set Matplotlib defaults\n",
    "plt.rc('figure', autolayout=True)\n",
    "plt.rc('axes', labelweight='bold', labelsize='large',\n",
    "       titleweight='bold', titlesize=18, titlepad=10)\n",
    "plt.rc('image', cmap='magma')\n",
    "warnings.filterwarnings(\"ignore\") # to clean up output cells"
   ]
  },
  {
   "cell_type": "code",
   "execution_count": 5,
   "metadata": {},
   "outputs": [
    {
     "name": "stdout",
     "output_type": "stream",
     "text": [
      "Found 5117 files belonging to 2 classes.\n",
      "Found 5051 files belonging to 2 classes.\n"
     ]
    }
   ],
   "source": [
    "# Load training and validation sets\n",
    "ds_train_ = image_dataset_from_directory(\n",
    "    'train',\n",
    "    labels='inferred',\n",
    "    label_mode='binary',\n",
    "    image_size=[128, 128],\n",
    "    interpolation='nearest',\n",
    "    batch_size=64,\n",
    "    shuffle=True,\n",
    ")\n",
    "ds_valid_ = image_dataset_from_directory(\n",
    "    'valid',\n",
    "    labels='inferred',\n",
    "    label_mode='binary',\n",
    "    image_size=[128, 128],\n",
    "    interpolation='nearest',\n",
    "    batch_size=64,\n",
    "    shuffle=False,\n",
    ")"
   ]
  },
  {
   "cell_type": "code",
   "execution_count": 6,
   "metadata": {},
   "outputs": [
    {
     "data": {
      "text/plain": [
       "<BatchDataset shapes: ((None, 128, 128, 3), (None, 1)), types: (tf.uint8, tf.float32)>"
      ]
     },
     "execution_count": 6,
     "metadata": {},
     "output_type": "execute_result"
    }
   ],
   "source": [
    "ds_train_"
   ]
  },
  {
   "cell_type": "code",
   "execution_count": 7,
   "metadata": {},
   "outputs": [],
   "source": [
    "# Data Pipeline\n",
    "def convert_to_float(image, label):\n",
    "    image = tf.image.convert_image_dtype(image, dtype=tf.float32)\n",
    "    return image, label\n",
    "\n",
    "AUTOTUNE = tf.data.experimental.AUTOTUNE\n",
    "ds_train = (\n",
    "    ds_train_\n",
    "    .map(convert_to_float)\n",
    "    .cache()\n",
    "    .prefetch(buffer_size=AUTOTUNE)\n",
    ")\n",
    "ds_valid = (\n",
    "    ds_valid_\n",
    "    .map(convert_to_float)\n",
    "    .cache()\n",
    "    .prefetch(buffer_size=AUTOTUNE)\n",
    ")"
   ]
  },
  {
   "cell_type": "code",
   "execution_count": 8,
   "metadata": {},
   "outputs": [
    {
     "data": {
      "text/plain": [
       "<BatchDataset shapes: ((None, 128, 128, 3), (None, 1)), types: (tf.uint8, tf.float32)>"
      ]
     },
     "execution_count": 8,
     "metadata": {},
     "output_type": "execute_result"
    }
   ],
   "source": [
    "ds_train_"
   ]
  },
  {
   "cell_type": "markdown",
   "metadata": {},
   "source": [
    "# 1) Define Pretrained Base"
   ]
  },
  {
   "cell_type": "code",
   "execution_count": 9,
   "metadata": {},
   "outputs": [
    {
     "name": "stdout",
     "output_type": "stream",
     "text": [
      "WARNING:tensorflow:No training configuration found in save file, so the model was *not* compiled. Compile it manually.\n"
     ]
    }
   ],
   "source": [
    "import tensorflow_hub as hub\n",
    "\n",
    "pretrained_base = tf.keras.models.load_model(\n",
    "    'cv-course-models/inceptionv1'\n",
    ")"
   ]
  },
  {
   "cell_type": "code",
   "execution_count": 10,
   "metadata": {},
   "outputs": [],
   "source": [
    "pretrained_base.trainable = False"
   ]
  },
  {
   "cell_type": "markdown",
   "metadata": {},
   "source": [
    "# 2) Attach Head"
   ]
  },
  {
   "cell_type": "code",
   "execution_count": 11,
   "metadata": {},
   "outputs": [],
   "source": [
    "import tensorflow.keras as keras\n",
    "import tensorflow.keras.layers as layers\n",
    "\n",
    "model = keras.Sequential([\n",
    "    pretrained_base,\n",
    "    layers.Flatten(),\n",
    "    # YOUR CODE HERE. Attach a head of dense layers.\n",
    "    layers.Dense(units=6, activation='relu'),\n",
    "    layers.Dense(units=1, activation='sigmoid')\n",
    "])"
   ]
  },
  {
   "cell_type": "markdown",
   "metadata": {},
   "source": [
    "# 3) Train"
   ]
  },
  {
   "cell_type": "code",
   "execution_count": 12,
   "metadata": {},
   "outputs": [],
   "source": [
    "# YOUR CODE HERE: what loss function should you use for a binary\n",
    "# classification problem? (Your answer for each should be a string.)\n",
    "optimizer = tf.keras.optimizers.Adam(epsilon=0.01)\n",
    "model.compile(\n",
    "    optimizer=optimizer,\n",
    "    loss = 'binary_crossentropy',\n",
    "    metrics=['binary_accuracy'],\n",
    ")"
   ]
  },
  {
   "cell_type": "code",
   "execution_count": 13,
   "metadata": {},
   "outputs": [
    {
     "name": "stdout",
     "output_type": "stream",
     "text": [
      "Epoch 1/30\n",
      "80/80 [==============================] - 35s 438ms/step - loss: 0.7006 - binary_accuracy: 0.5419 - val_loss: 0.6893 - val_binary_accuracy: 0.6003\n",
      "Epoch 2/30\n",
      "80/80 [==============================] - 34s 430ms/step - loss: 0.6814 - binary_accuracy: 0.6490 - val_loss: 0.6632 - val_binary_accuracy: 0.7468\n",
      "Epoch 3/30\n",
      "80/80 [==============================] - 34s 424ms/step - loss: 0.6384 - binary_accuracy: 0.7340 - val_loss: 0.6062 - val_binary_accuracy: 0.7854\n",
      "Epoch 4/30\n",
      "80/80 [==============================] - 34s 430ms/step - loss: 0.5872 - binary_accuracy: 0.7799 - val_loss: 0.5632 - val_binary_accuracy: 0.8125\n",
      "Epoch 5/30\n",
      "80/80 [==============================] - 35s 433ms/step - loss: 0.5522 - binary_accuracy: 0.8013 - val_loss: 0.5348 - val_binary_accuracy: 0.8284\n",
      "Epoch 6/30\n",
      "80/80 [==============================] - 35s 440ms/step - loss: 0.5273 - binary_accuracy: 0.8165 - val_loss: 0.5126 - val_binary_accuracy: 0.8313\n",
      "Epoch 7/30\n",
      "80/80 [==============================] - 36s 447ms/step - loss: 0.5072 - binary_accuracy: 0.8247 - val_loss: 0.4958 - val_binary_accuracy: 0.8363\n",
      "Epoch 8/30\n",
      "80/80 [==============================] - 35s 438ms/step - loss: 0.4908 - binary_accuracy: 0.8306 - val_loss: 0.4818 - val_binary_accuracy: 0.8386\n",
      "Epoch 9/30\n",
      "80/80 [==============================] - 35s 437ms/step - loss: 0.4760 - binary_accuracy: 0.8355 - val_loss: 0.4697 - val_binary_accuracy: 0.8416\n",
      "Epoch 10/30\n",
      "80/80 [==============================] - 35s 443ms/step - loss: 0.4629 - binary_accuracy: 0.8409 - val_loss: 0.4592 - val_binary_accuracy: 0.8412\n",
      "Epoch 11/30\n",
      "80/80 [==============================] - 35s 442ms/step - loss: 0.4511 - binary_accuracy: 0.8456 - val_loss: 0.4491 - val_binary_accuracy: 0.8434\n",
      "Epoch 12/30\n",
      "80/80 [==============================] - 35s 439ms/step - loss: 0.4404 - binary_accuracy: 0.8493 - val_loss: 0.4406 - val_binary_accuracy: 0.8450\n",
      "Epoch 13/30\n",
      "80/80 [==============================] - 35s 435ms/step - loss: 0.4307 - binary_accuracy: 0.8521 - val_loss: 0.4323 - val_binary_accuracy: 0.8474\n",
      "Epoch 14/30\n",
      "80/80 [==============================] - 35s 442ms/step - loss: 0.4215 - binary_accuracy: 0.8556 - val_loss: 0.4250 - val_binary_accuracy: 0.8489\n",
      "Epoch 15/30\n",
      "80/80 [==============================] - 36s 445ms/step - loss: 0.4132 - binary_accuracy: 0.8581 - val_loss: 0.4182 - val_binary_accuracy: 0.8487\n",
      "Epoch 16/30\n",
      "80/80 [==============================] - 35s 442ms/step - loss: 0.4054 - binary_accuracy: 0.8593 - val_loss: 0.4123 - val_binary_accuracy: 0.8501\n",
      "Epoch 17/30\n",
      "80/80 [==============================] - 36s 445ms/step - loss: 0.3978 - binary_accuracy: 0.8624 - val_loss: 0.4065 - val_binary_accuracy: 0.8497\n",
      "Epoch 18/30\n",
      "80/80 [==============================] - 35s 443ms/step - loss: 0.3904 - binary_accuracy: 0.8648 - val_loss: 0.4015 - val_binary_accuracy: 0.8509\n",
      "Epoch 19/30\n",
      "80/80 [==============================] - 36s 444ms/step - loss: 0.3838 - binary_accuracy: 0.8663 - val_loss: 0.3968 - val_binary_accuracy: 0.8511\n",
      "Epoch 20/30\n",
      "80/80 [==============================] - 35s 440ms/step - loss: 0.3773 - binary_accuracy: 0.8677 - val_loss: 0.3930 - val_binary_accuracy: 0.8513\n",
      "Epoch 21/30\n",
      "80/80 [==============================] - 35s 441ms/step - loss: 0.3713 - binary_accuracy: 0.8677 - val_loss: 0.3885 - val_binary_accuracy: 0.8505\n",
      "Epoch 22/30\n",
      "80/80 [==============================] - 35s 439ms/step - loss: 0.3654 - binary_accuracy: 0.8687 - val_loss: 0.3846 - val_binary_accuracy: 0.8515\n",
      "Epoch 23/30\n",
      "80/80 [==============================] - 35s 440ms/step - loss: 0.3599 - binary_accuracy: 0.8716 - val_loss: 0.3811 - val_binary_accuracy: 0.8521\n",
      "Epoch 24/30\n",
      "80/80 [==============================] - 36s 445ms/step - loss: 0.3542 - binary_accuracy: 0.8726 - val_loss: 0.3786 - val_binary_accuracy: 0.8527\n",
      "Epoch 25/30\n",
      "80/80 [==============================] - 35s 437ms/step - loss: 0.3488 - binary_accuracy: 0.8741 - val_loss: 0.3758 - val_binary_accuracy: 0.8517\n",
      "Epoch 26/30\n",
      "80/80 [==============================] - 35s 437ms/step - loss: 0.3440 - binary_accuracy: 0.8741 - val_loss: 0.3730 - val_binary_accuracy: 0.8511\n",
      "Epoch 27/30\n",
      "80/80 [==============================] - 35s 444ms/step - loss: 0.3396 - binary_accuracy: 0.8767 - val_loss: 0.3697 - val_binary_accuracy: 0.8523\n",
      "Epoch 28/30\n",
      "80/80 [==============================] - 35s 439ms/step - loss: 0.3350 - binary_accuracy: 0.8782 - val_loss: 0.3672 - val_binary_accuracy: 0.8535\n",
      "Epoch 29/30\n",
      "80/80 [==============================] - 35s 443ms/step - loss: 0.3304 - binary_accuracy: 0.8800 - val_loss: 0.3636 - val_binary_accuracy: 0.8549\n",
      "Epoch 30/30\n",
      "80/80 [==============================] - 35s 443ms/step - loss: 0.3258 - binary_accuracy: 0.8802 - val_loss: 0.3613 - val_binary_accuracy: 0.8547\n"
     ]
    }
   ],
   "source": [
    "history = model.fit(\n",
    "    ds_train,\n",
    "    validation_data=ds_valid,\n",
    "    epochs=30,\n",
    ")"
   ]
  },
  {
   "cell_type": "code",
   "execution_count": 14,
   "metadata": {},
   "outputs": [
    {
     "data": {
      "image/png": "[encoded data removed]",
      "text/plain": [
       "<Figure size 432x288 with 1 Axes>"
      ]
     },
     "metadata": {
      "needs_background": "light"
     },
     "output_type": "display_data"
    },
    {
     "data": {
      "image/png": "[encoded data removed]",
      "text/plain": [
       "<Figure size 432x288 with 1 Axes>"
      ]
     },
     "metadata": {
      "needs_background": "light"
     },
     "output_type": "display_data"
    }
   ],
   "source": [
    "import pandas as pd\n",
    "history_frame = pd.DataFrame(history.history)\n",
    "history_frame.loc[:, ['loss', 'val_loss']].plot()\n",
    "history_frame.loc[:, ['binary_accuracy', 'val_binary_accuracy']].plot();"
   ]
  },
  {
   "cell_type": "code",
   "execution_count": null,
   "metadata": {},
   "outputs": [],
   "source": []
  }
 ],
 "metadata": {
  "kernelspec": {
   "display_name": "Python 3",
   "language": "python",
   "name": "python3"
  },
  "language_info": {
   "codemirror_mode": {
    "name": "ipython",
    "version": 3
   },
   "file_extension": ".py",
   "mimetype": "text/x-python",
   "name": "python",
   "nbconvert_exporter": "python",
   "pygments_lexer": "ipython3",
   "version": "3.8.5"
  }
 },
 "nbformat": 4,
 "nbformat_minor": 4
}
